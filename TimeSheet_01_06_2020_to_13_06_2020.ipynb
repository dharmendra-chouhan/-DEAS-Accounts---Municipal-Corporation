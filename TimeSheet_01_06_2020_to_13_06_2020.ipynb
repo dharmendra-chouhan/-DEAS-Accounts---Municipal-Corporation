{
  "nbformat": 4,
  "nbformat_minor": 0,
  "metadata": {
    "colab": {
      "name": "TimeSheet_01_06_2020_to_13_06_2020.ipynb",
      "provenance": [],
      "collapsed_sections": [],
      "authorship_tag": "ABX9TyOwgjN51C/1YVmXBZ7xeEvu",
      "include_colab_link": true
    },
    "kernelspec": {
      "name": "python3",
      "display_name": "Python 3"
    }
  },
  "cells": [
    {
      "cell_type": "markdown",
      "metadata": {
        "id": "view-in-github",
        "colab_type": "text"
      },
      "source": [
        "<a href=\"https://colab.research.google.com/github/dharmendra-chouhan/-DEAS-Accounts---Municipal-Corporation/blob/master/TimeSheet_01_06_2020_to_13_06_2020.ipynb\" target=\"_parent\"><img src=\"https://colab.research.google.com/assets/colab-badge.svg\" alt=\"Open In Colab\"/></a>"
      ]
    },
    {
      "cell_type": "code",
      "metadata": {
        "id": "cUcD_aKMmVtV",
        "colab_type": "code",
        "colab": {}
      },
      "source": [
        "#@title  {display-mode: \"form\"}\n",
        "import pandas as pd"
      ],
      "execution_count": 0,
      "outputs": []
    },
    {
      "cell_type": "markdown",
      "metadata": {
        "id": "ksAgLmmUmnak",
        "colab_type": "text"
      },
      "source": [
        "import Data bugzilla"
      ]
    },
    {
      "cell_type": "code",
      "metadata": {
        "id": "i_IyHPYgmub7",
        "colab_type": "code",
        "colab": {
          "resources": {
            "http://localhost:8080/nbextensions/google.colab/files.js": {
              "data": "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",
              "ok": true,
              "headers": [
                [
                  "content-type",
                  "application/javascript"
                ]
              ],
              "status": 200,
              "status_text": ""
            }
          },
          "base_uri": "https://localhost:8080/",
          "height": 74
        },
        "outputId": "ea83afd6-c61e-4813-f587-cbf9078b0943"
      },
      "source": [
        "#@title  {display-mode: \"form\"}\n",
        "from google.colab import files\n",
        "uploaded = files.upload()"
      ],
      "execution_count": 3,
      "outputs": [
        {
          "output_type": "display_data",
          "data": {
            "text/html": [
              "\n",
              "     <input type=\"file\" id=\"files-82f87fa5-32e5-4669-bd81-b03740a909ae\" name=\"files[]\" multiple disabled />\n",
              "     <output id=\"result-82f87fa5-32e5-4669-bd81-b03740a909ae\">\n",
              "      Upload widget is only available when the cell has been executed in the\n",
              "      current browser session. Please rerun this cell to enable.\n",
              "      </output>\n",
              "      <script src=\"/nbextensions/google.colab/files.js\"></script> "
            ],
            "text/plain": [
              "<IPython.core.display.HTML object>"
            ]
          },
          "metadata": {
            "tags": []
          }
        },
        {
          "output_type": "stream",
          "text": [
            "Saving bugs-2020-06-15.csv to bugs-2020-06-15.csv\n"
          ],
          "name": "stdout"
        }
      ]
    },
    {
      "cell_type": "code",
      "metadata": {
        "id": "KjrbYhG9As6v",
        "colab_type": "code",
        "colab": {}
      },
      "source": [
        "#@title  {display-mode: \"form\"}\n",
        "bugzilla_1junto13jun= pd.read_csv('bugs-2020-06-15.csv', encoding='latin-1')"
      ],
      "execution_count": 0,
      "outputs": []
    },
    {
      "cell_type": "markdown",
      "metadata": {
        "id": "YrNp5jSd0oVe",
        "colab_type": "text"
      },
      "source": [
        "import Data clockify"
      ]
    },
    {
      "cell_type": "code",
      "metadata": {
        "id": "BcjwKvv30jCi",
        "colab_type": "code",
        "colab": {
          "resources": {
            "http://localhost:8080/nbextensions/google.colab/files.js": {
              "data": "Ly8gQ29weXJpZ2h0IDIwMTcgR29vZ2xlIExMQwovLwovLyBMaWNlbnNlZCB1bmRlciB0aGUgQXBhY2hlIExpY2Vuc2UsIFZlcnNpb24gMi4wICh0aGUgIkxpY2Vuc2UiKTsKLy8geW91IG1heSBub3QgdXNlIHRoaXMgZmlsZSBleGNlcHQgaW4gY29tcGxpYW5jZSB3aXRoIHRoZSBMaWNlbnNlLgovLyBZb3UgbWF5IG9idGFpbiBhIGNvcHkgb2YgdGhlIExpY2Vuc2UgYXQKLy8KLy8gICAgICBodHRwOi8vd3d3LmFwYWNoZS5vcmcvbGljZW5zZXMvTElDRU5TRS0yLjAKLy8KLy8gVW5sZXNzIHJlcXVpcmVkIGJ5IGFwcGxpY2FibGUgbGF3IG9yIGFncmVlZCB0byBpbiB3cml0aW5nLCBzb2Z0d2FyZQovLyBkaXN0cmlidXRlZCB1bmRlciB0aGUgTGljZW5zZSBpcyBkaXN0cmlidXRlZCBvbiBhbiAiQVMgSVMiIEJBU0lTLAovLyBXSVRIT1VUIFdBUlJBTlRJRVMgT1IgQ09ORElUSU9OUyBPRiBBTlkgS0lORCwgZWl0aGVyIGV4cHJlc3Mgb3IgaW1wbGllZC4KLy8gU2VlIHRoZSBMaWNlbnNlIGZvciB0aGUgc3BlY2lmaWMgbGFuZ3VhZ2UgZ292ZXJuaW5nIHBlcm1pc3Npb25zIGFuZAovLyBsaW1pdGF0aW9ucyB1bmRlciB0aGUgTGljZW5zZS4KCi8qKgogKiBAZmlsZW92ZXJ2aWV3IEhlbHBlcnMgZm9yIGdvb2dsZS5jb2xhYiBQeXRob24gbW9kdWxlLgogKi8KKGZ1bmN0aW9uKHNjb3BlKSB7CmZ1bmN0aW9uIHNwYW4odGV4dCwgc3R5bGVBdHRyaWJ1dGVzID0ge30pIHsKICBjb25zdCBlbGVtZW50ID0gZG9jdW1lbnQuY3JlYXRlRWxlbWVudCgnc3BhbicpOwogIGVsZW1lbnQudGV4dENvbnRlbnQgPSB0ZXh0OwogIGZvciAoY29uc3Qga2V5IG9mIE9iamVjdC5rZXlzKHN0eWxlQXR0cmlidXRlcykpIHsKICAgIGVsZW1lbnQuc3R5bGVba2V5XSA9IHN0eWxlQXR0cmlidXRlc1trZXldOwogIH0KICByZXR1cm4gZWxlbWVudDsKfQoKLy8gTWF4IG51bWJlciBvZiBieXRlcyB3aGljaCB3aWxsIGJlIHVwbG9hZGVkIGF0IGEgdGltZS4KY29uc3QgTUFYX1BBWUxPQURfU0laRSA9IDEwMCAqIDEwMjQ7Ci8vIE1heCBhbW91bnQgb2YgdGltZSB0byBibG9jayB3YWl0aW5nIGZvciB0aGUgdXNlci4KY29uc3QgRklMRV9DSEFOR0VfVElNRU9VVF9NUyA9IDMwICogMTAwMDsKCmZ1bmN0aW9uIF91cGxvYWRGaWxlcyhpbnB1dElkLCBvdXRwdXRJZCkgewogIGNvbnN0IHN0ZXBzID0gdXBsb2FkRmlsZXNTdGVwKGlucHV0SWQsIG91dHB1dElkKTsKICBjb25zdCBvdXRwdXRFbGVtZW50ID0gZG9jdW1lbnQuZ2V0RWxlbWVudEJ5SWQob3V0cHV0SWQpOwogIC8vIENhY2hlIHN0ZXBzIG9uIHRoZSBvdXRwdXRFbGVtZW50IHRvIG1ha2UgaXQgYXZhaWxhYmxlIGZvciB0aGUgbmV4dCBjYWxsCiAgLy8gdG8gdXBsb2FkRmlsZXNDb250aW51ZSBmcm9tIFB5dGhvbi4KICBvdXRwdXRFbGVtZW50LnN0ZXBzID0gc3RlcHM7CgogIHJldHVybiBfdXBsb2FkRmlsZXNDb250aW51ZShvdXRwdXRJZCk7Cn0KCi8vIFRoaXMgaXMgcm91Z2hseSBhbiBhc3luYyBnZW5lcmF0b3IgKG5vdCBzdXBwb3J0ZWQgaW4gdGhlIGJyb3dzZXIgeWV0KSwKLy8gd2hlcmUgdGhlcmUgYXJlIG11bHRpcGxlIGFzeW5jaHJvbm91cyBzdGVwcyBhbmQgdGhlIFB5dGhvbiBzaWRlIGlzIGdvaW5nCi8vIHRvIHBvbGwgZm9yIGNvbXBsZXRpb24gb2YgZWFjaCBzdGVwLgovLyBUaGlzIHVzZXMgYSBQcm9taXNlIHRvIGJsb2NrIHRoZSBweXRob24gc2lkZSBvbiBjb21wbGV0aW9uIG9mIGVhY2ggc3RlcCwKLy8gdGhlbiBwYXNzZXMgdGhlIHJlc3VsdCBvZiB0aGUgcHJldmlvdXMgc3RlcCBhcyB0aGUgaW5wdXQgdG8gdGhlIG5leHQgc3RlcC4KZnVuY3Rpb24gX3VwbG9hZEZpbGVzQ29udGludWUob3V0cHV0SWQpIHsKICBjb25zdCBvdXRwdXRFbGVtZW50ID0gZG9jdW1lbnQuZ2V0RWxlbWVudEJ5SWQob3V0cHV0SWQpOwogIGNvbnN0IHN0ZXBzID0gb3V0cHV0RWxlbWVudC5zdGVwczsKCiAgY29uc3QgbmV4dCA9IHN0ZXBzLm5leHQob3V0cHV0RWxlbWVudC5sYXN0UHJvbWlzZVZhbHVlKTsKICByZXR1cm4gUHJvbWlzZS5yZXNvbHZlKG5leHQudmFsdWUucHJvbWlzZSkudGhlbigodmFsdWUpID0+IHsKICAgIC8vIENhY2hlIHRoZSBsYXN0IHByb21pc2UgdmFsdWUgdG8gbWFrZSBpdCBhdmFpbGFibGUgdG8gdGhlIG5leHQKICAgIC8vIHN0ZXAgb2YgdGhlIGdlbmVyYXRvci4KICAgIG91dHB1dEVsZW1lbnQubGFzdFByb21pc2VWYWx1ZSA9IHZhbHVlOwogICAgcmV0dXJuIG5leHQudmFsdWUucmVzcG9uc2U7CiAgfSk7Cn0KCi8qKgogKiBHZW5lcmF0b3IgZnVuY3Rpb24gd2hpY2ggaXMgY2FsbGVkIGJldHdlZW4gZWFjaCBhc3luYyBzdGVwIG9mIHRoZSB1cGxvYWQKICogcHJvY2Vzcy4KICogQHBhcmFtIHtzdHJpbmd9IGlucHV0SWQgRWxlbWVudCBJRCBvZiB0aGUgaW5wdXQgZmlsZSBwaWNrZXIgZWxlbWVudC4KICogQHBhcmFtIHtzdHJpbmd9IG91dHB1dElkIEVsZW1lbnQgSUQgb2YgdGhlIG91dHB1dCBkaXNwbGF5LgogKiBAcmV0dXJuIHshSXRlcmFibGU8IU9iamVjdD59IEl0ZXJhYmxlIG9mIG5leHQgc3RlcHMuCiAqLwpmdW5jdGlvbiogdXBsb2FkRmlsZXNTdGVwKGlucHV0SWQsIG91dHB1dElkKSB7CiAgY29uc3QgaW5wdXRFbGVtZW50ID0gZG9jdW1lbnQuZ2V0RWxlbWVudEJ5SWQoaW5wdXRJZCk7CiAgaW5wdXRFbGVtZW50LmRpc2FibGVkID0gZmFsc2U7CgogIGNvbnN0IG91dHB1dEVsZW1lbnQgPSBkb2N1bWVudC5nZXRFbGVtZW50QnlJZChvdXRwdXRJZCk7CiAgb3V0cHV0RWxlbWVudC5pbm5lckhUTUwgPSAnJzsKCiAgY29uc3QgcGlja2VkUHJvbWlzZSA9IG5ldyBQcm9taXNlKChyZXNvbHZlKSA9PiB7CiAgICBpbnB1dEVsZW1lbnQuYWRkRXZlbnRMaXN0ZW5lcignY2hhbmdlJywgKGUpID0+IHsKICAgICAgcmVzb2x2ZShlLnRhcmdldC5maWxlcyk7CiAgICB9KTsKICB9KTsKCiAgY29uc3QgY2FuY2VsID0gZG9jdW1lbnQuY3JlYXRlRWxlbWVudCgnYnV0dG9uJyk7CiAgaW5wdXRFbGVtZW50LnBhcmVudEVsZW1lbnQuYXBwZW5kQ2hpbGQoY2FuY2VsKTsKICBjYW5jZWwudGV4dENvbnRlbnQgPSAnQ2FuY2VsIHVwbG9hZCc7CiAgY29uc3QgY2FuY2VsUHJvbWlzZSA9IG5ldyBQcm9taXNlKChyZXNvbHZlKSA9PiB7CiAgICBjYW5jZWwub25jbGljayA9ICgpID0+IHsKICAgICAgcmVzb2x2ZShudWxsKTsKICAgIH07CiAgfSk7CgogIC8vIENhbmNlbCB1cGxvYWQgaWYgdXNlciBoYXNuJ3QgcGlja2VkIGFueXRoaW5nIGluIHRpbWVvdXQuCiAgY29uc3QgdGltZW91dFByb21pc2UgPSBuZXcgUHJvbWlzZSgocmVzb2x2ZSkgPT4gewogICAgc2V0VGltZW91dCgoKSA9PiB7CiAgICAgIHJlc29sdmUobnVsbCk7CiAgICB9LCBGSUxFX0NIQU5HRV9USU1FT1VUX01TKTsKICB9KTsKCiAgLy8gV2FpdCBmb3IgdGhlIHVzZXIgdG8gcGljayB0aGUgZmlsZXMuCiAgY29uc3QgZmlsZXMgPSB5aWVsZCB7CiAgICBwcm9taXNlOiBQcm9taXNlLnJhY2UoW3BpY2tlZFByb21pc2UsIHRpbWVvdXRQcm9taXNlLCBjYW5jZWxQcm9taXNlXSksCiAgICByZXNwb25zZTogewogICAgICBhY3Rpb246ICdzdGFydGluZycsCiAgICB9CiAgfTsKCiAgaWYgKCFmaWxlcykgewogICAgcmV0dXJuIHsKICAgICAgcmVzcG9uc2U6IHsKICAgICAgICBhY3Rpb246ICdjb21wbGV0ZScsCiAgICAgIH0KICAgIH07CiAgfQoKICBjYW5jZWwucmVtb3ZlKCk7CgogIC8vIERpc2FibGUgdGhlIGlucHV0IGVsZW1lbnQgc2luY2UgZnVydGhlciBwaWNrcyBhcmUgbm90IGFsbG93ZWQuCiAgaW5wdXRFbGVtZW50LmRpc2FibGVkID0gdHJ1ZTsKCiAgZm9yIChjb25zdCBmaWxlIG9mIGZpbGVzKSB7CiAgICBjb25zdCBsaSA9IGRvY3VtZW50LmNyZWF0ZUVsZW1lbnQoJ2xpJyk7CiAgICBsaS5hcHBlbmQoc3BhbihmaWxlLm5hbWUsIHtmb250V2VpZ2h0OiAnYm9sZCd9KSk7CiAgICBsaS5hcHBlbmQoc3BhbigKICAgICAgICBgKCR7ZmlsZS50eXBlIHx8ICduL2EnfSkgLSAke2ZpbGUuc2l6ZX0gYnl0ZXMsIGAgKwogICAgICAgIGBsYXN0IG1vZGlmaWVkOiAkewogICAgICAgICAgICBmaWxlLmxhc3RNb2RpZmllZERhdGUgPyBmaWxlLmxhc3RNb2RpZmllZERhdGUudG9Mb2NhbGVEYXRlU3RyaW5nKCkgOgogICAgICAgICAgICAgICAgICAgICAgICAgICAgICAgICAgICAnbi9hJ30gLSBgKSk7CiAgICBjb25zdCBwZXJjZW50ID0gc3BhbignMCUgZG9uZScpOwogICAgbGkuYXBwZW5kQ2hpbGQocGVyY2VudCk7CgogICAgb3V0cHV0RWxlbWVudC5hcHBlbmRDaGlsZChsaSk7CgogICAgY29uc3QgZmlsZURhdGFQcm9taXNlID0gbmV3IFByb21pc2UoKHJlc29sdmUpID0+IHsKICAgICAgY29uc3QgcmVhZGVyID0gbmV3IEZpbGVSZWFkZXIoKTsKICAgICAgcmVhZGVyLm9ubG9hZCA9IChlKSA9PiB7CiAgICAgICAgcmVzb2x2ZShlLnRhcmdldC5yZXN1bHQpOwogICAgICB9OwogICAgICByZWFkZXIucmVhZEFzQXJyYXlCdWZmZXIoZmlsZSk7CiAgICB9KTsKICAgIC8vIFdhaXQgZm9yIHRoZSBkYXRhIHRvIGJlIHJlYWR5LgogICAgbGV0IGZpbGVEYXRhID0geWllbGQgewogICAgICBwcm9taXNlOiBmaWxlRGF0YVByb21pc2UsCiAgICAgIHJlc3BvbnNlOiB7CiAgICAgICAgYWN0aW9uOiAnY29udGludWUnLAogICAgICB9CiAgICB9OwoKICAgIC8vIFVzZSBhIGNodW5rZWQgc2VuZGluZyB0byBhdm9pZCBtZXNzYWdlIHNpemUgbGltaXRzLiBTZWUgYi82MjExNTY2MC4KICAgIGxldCBwb3NpdGlvbiA9IDA7CiAgICB3aGlsZSAocG9zaXRpb24gPCBmaWxlRGF0YS5ieXRlTGVuZ3RoKSB7CiAgICAgIGNvbnN0IGxlbmd0aCA9IE1hdGgubWluKGZpbGVEYXRhLmJ5dGVMZW5ndGggLSBwb3NpdGlvbiwgTUFYX1BBWUxPQURfU0laRSk7CiAgICAgIGNvbnN0IGNodW5rID0gbmV3IFVpbnQ4QXJyYXkoZmlsZURhdGEsIHBvc2l0aW9uLCBsZW5ndGgpOwogICAgICBwb3NpdGlvbiArPSBsZW5ndGg7CgogICAgICBjb25zdCBiYXNlNjQgPSBidG9hKFN0cmluZy5mcm9tQ2hhckNvZGUuYXBwbHkobnVsbCwgY2h1bmspKTsKICAgICAgeWllbGQgewogICAgICAgIHJlc3BvbnNlOiB7CiAgICAgICAgICBhY3Rpb246ICdhcHBlbmQnLAogICAgICAgICAgZmlsZTogZmlsZS5uYW1lLAogICAgICAgICAgZGF0YTogYmFzZTY0LAogICAgICAgIH0sCiAgICAgIH07CiAgICAgIHBlcmNlbnQudGV4dENvbnRlbnQgPQogICAgICAgICAgYCR7TWF0aC5yb3VuZCgocG9zaXRpb24gLyBmaWxlRGF0YS5ieXRlTGVuZ3RoKSAqIDEwMCl9JSBkb25lYDsKICAgIH0KICB9CgogIC8vIEFsbCBkb25lLgogIHlpZWxkIHsKICAgIHJlc3BvbnNlOiB7CiAgICAgIGFjdGlvbjogJ2NvbXBsZXRlJywKICAgIH0KICB9Owp9CgpzY29wZS5nb29nbGUgPSBzY29wZS5nb29nbGUgfHwge307CnNjb3BlLmdvb2dsZS5jb2xhYiA9IHNjb3BlLmdvb2dsZS5jb2xhYiB8fCB7fTsKc2NvcGUuZ29vZ2xlLmNvbGFiLl9maWxlcyA9IHsKICBfdXBsb2FkRmlsZXMsCiAgX3VwbG9hZEZpbGVzQ29udGludWUsCn07Cn0pKHNlbGYpOwo=",
              "ok": true,
              "headers": [
                [
                  "content-type",
                  "application/javascript"
                ]
              ],
              "status": 200,
              "status_text": ""
            }
          },
          "base_uri": "https://localhost:8080/",
          "height": 74
        },
        "outputId": "825fa62e-c174-4b14-95eb-37000371606d"
      },
      "source": [
        "#@title  {display-mode: \"form\"}\n",
        "from google.colab import files\n",
        "uploaded = files.upload()"
      ],
      "execution_count": 5,
      "outputs": [
        {
          "output_type": "display_data",
          "data": {
            "text/html": [
              "\n",
              "     <input type=\"file\" id=\"files-8332d694-f7a4-4fac-b3a6-167a1afec1ef\" name=\"files[]\" multiple disabled />\n",
              "     <output id=\"result-8332d694-f7a4-4fac-b3a6-167a1afec1ef\">\n",
              "      Upload widget is only available when the cell has been executed in the\n",
              "      current browser session. Please rerun this cell to enable.\n",
              "      </output>\n",
              "      <script src=\"/nbextensions/google.colab/files.js\"></script> "
            ],
            "text/plain": [
              "<IPython.core.display.HTML object>"
            ]
          },
          "metadata": {
            "tags": []
          }
        },
        {
          "output_type": "stream",
          "text": [
            "Saving Clockify_Detailed_Report_06_01_2020-06_13_2020.csv to Clockify_Detailed_Report_06_01_2020-06_13_2020.csv\n"
          ],
          "name": "stdout"
        }
      ]
    },
    {
      "cell_type": "code",
      "metadata": {
        "id": "hQ6W-Ctv0ufQ",
        "colab_type": "code",
        "colab": {}
      },
      "source": [
        "#@title  {display-mode: \"form\"}\n",
        "clockify_1junto13jun= pd.read_csv('Clockify_Detailed_Report_06_01_2020-06_13_2020.csv', encoding='latin-1')"
      ],
      "execution_count": 0,
      "outputs": []
    },
    {
      "cell_type": "markdown",
      "metadata": {
        "id": "lYghll4m1P1K",
        "colab_type": "text"
      },
      "source": [
        "**Clockify and Bugzilla Merging Data**"
      ]
    },
    {
      "cell_type": "code",
      "metadata": {
        "id": "w-R7OL2H1O8i",
        "colab_type": "code",
        "colab": {
          "base_uri": "https://localhost:8080/",
          "height": 826
        },
        "outputId": "469d44c1-43e6-4cab-eb96-c225178bcc3a"
      },
      "source": [
        "#@title  {display-mode: \"form\"}\n",
        "scriteria = bugzilla_1junto13jun['Bug ID'].values.tolist()  \n",
        "df=pd.DataFrame(clockify_1junto13jun)\n",
        "clockifybugs = df[0:0]\n",
        "clockify_1junto13jun['Bug ID'] =0\n",
        "for x in scriteria:\n",
        "  df=pd.DataFrame(clockify_1junto13jun[clockify_1junto13jun['Description'].str.upper().str.contains(str(x))])\n",
        "  df['Bug ID'] =x\n",
        "  clockifybugs=clockifybugs.append(df)\n",
        "clockifybugs = pd.merge(clockifybugs, bugzilla_1junto13jun, on='Bug ID')\n",
        "clockifybugsmer=clockifybugs[['Bug ID','Product', 'User','Assignee','Description','Summary','Orig. Est.','Duration (decimal)','Status','Resolution','Actual Hours','Start Date_x','End Date']] \n",
        "clockifybugsmer.head(100)\n"
      ],
      "execution_count": 7,
      "outputs": [
        {
          "output_type": "execute_result",
          "data": {
            "text/html": [
              "<div>\n",
              "<style scoped>\n",
              "    .dataframe tbody tr th:only-of-type {\n",
              "        vertical-align: middle;\n",
              "    }\n",
              "\n",
              "    .dataframe tbody tr th {\n",
              "        vertical-align: top;\n",
              "    }\n",
              "\n",
              "    .dataframe thead th {\n",
              "        text-align: right;\n",
              "    }\n",
              "</style>\n",
              "<table border=\"1\" class=\"dataframe\">\n",
              "  <thead>\n",
              "    <tr style=\"text-align: right;\">\n",
              "      <th></th>\n",
              "      <th>Bug ID</th>\n",
              "      <th>Product</th>\n",
              "      <th>User</th>\n",
              "      <th>Assignee</th>\n",
              "      <th>Description</th>\n",
              "      <th>Summary</th>\n",
              "      <th>Orig. Est.</th>\n",
              "      <th>Duration (decimal)</th>\n",
              "      <th>Status</th>\n",
              "      <th>Resolution</th>\n",
              "      <th>Actual Hours</th>\n",
              "      <th>Start Date_x</th>\n",
              "      <th>End Date</th>\n",
              "    </tr>\n",
              "  </thead>\n",
              "  <tbody>\n",
              "    <tr>\n",
              "      <th>0</th>\n",
              "      <td>34805.0</td>\n",
              "      <td>KCCA</td>\n",
              "      <td>Dharmendra Chouhan</td>\n",
              "      <td>afak.pangarkar@gmail.com</td>\n",
              "      <td>updated script for data correction :-Bug 34805...</td>\n",
              "      <td>Datacorrection of Module id in Location map ta...</td>\n",
              "      <td>4.0</td>\n",
              "      <td>2.11</td>\n",
              "      <td>RESOLVED</td>\n",
              "      <td>FIXED ON DEVELOPMENT</td>\n",
              "      <td>3.0</td>\n",
              "      <td>06/06/2020</td>\n",
              "      <td>06/06/2020</td>\n",
              "    </tr>\n",
              "    <tr>\n",
              "      <th>1</th>\n",
              "      <td>34805.0</td>\n",
              "      <td>KCCA</td>\n",
              "      <td>Afak Pangarkar</td>\n",
              "      <td>afak.pangarkar@gmail.com</td>\n",
              "      <td>Discussion with Dharmendra for defect id 34805...</td>\n",
              "      <td>Datacorrection of Module id in Location map ta...</td>\n",
              "      <td>4.0</td>\n",
              "      <td>0.50</td>\n",
              "      <td>RESOLVED</td>\n",
              "      <td>FIXED ON DEVELOPMENT</td>\n",
              "      <td>3.0</td>\n",
              "      <td>06/06/2020</td>\n",
              "      <td>06/06/2020</td>\n",
              "    </tr>\n",
              "    <tr>\n",
              "      <th>2</th>\n",
              "      <td>34805.0</td>\n",
              "      <td>KCCA</td>\n",
              "      <td>Dharmendra Chouhan</td>\n",
              "      <td>afak.pangarkar@gmail.com</td>\n",
              "      <td>Discussion with afak for KCCA location data :B...</td>\n",
              "      <td>Datacorrection of Module id in Location map ta...</td>\n",
              "      <td>4.0</td>\n",
              "      <td>0.50</td>\n",
              "      <td>RESOLVED</td>\n",
              "      <td>FIXED ON DEVELOPMENT</td>\n",
              "      <td>3.0</td>\n",
              "      <td>06/06/2020</td>\n",
              "      <td>06/06/2020</td>\n",
              "    </tr>\n",
              "    <tr>\n",
              "      <th>3</th>\n",
              "      <td>34765.0</td>\n",
              "      <td>KCCA</td>\n",
              "      <td>Dharmendra Chouhan</td>\n",
              "      <td>afak.pangarkar@gmail.com</td>\n",
              "      <td>Cretae table and genetate excel sheet for BI T...</td>\n",
              "      <td>Common and Property data for BI tool report fo...</td>\n",
              "      <td>16.0</td>\n",
              "      <td>3.25</td>\n",
              "      <td>RESOLVED</td>\n",
              "      <td>FIXED ON DEVELOPMENT</td>\n",
              "      <td>6.5</td>\n",
              "      <td>06/01/2020</td>\n",
              "      <td>06/01/2020</td>\n",
              "    </tr>\n",
              "    <tr>\n",
              "      <th>4</th>\n",
              "      <td>34765.0</td>\n",
              "      <td>KCCA</td>\n",
              "      <td>Dharmendra Chouhan</td>\n",
              "      <td>afak.pangarkar@gmail.com</td>\n",
              "      <td>Cretae table and genetate excel sheet for BI T...</td>\n",
              "      <td>Common and Property data for BI tool report fo...</td>\n",
              "      <td>16.0</td>\n",
              "      <td>3.25</td>\n",
              "      <td>RESOLVED</td>\n",
              "      <td>FIXED ON DEVELOPMENT</td>\n",
              "      <td>6.5</td>\n",
              "      <td>06/01/2020</td>\n",
              "      <td>06/01/2020</td>\n",
              "    </tr>\n",
              "    <tr>\n",
              "      <th>...</th>\n",
              "      <td>...</td>\n",
              "      <td>...</td>\n",
              "      <td>...</td>\n",
              "      <td>...</td>\n",
              "      <td>...</td>\n",
              "      <td>...</td>\n",
              "      <td>...</td>\n",
              "      <td>...</td>\n",
              "      <td>...</td>\n",
              "      <td>...</td>\n",
              "      <td>...</td>\n",
              "      <td>...</td>\n",
              "      <td>...</td>\n",
              "    </tr>\n",
              "    <tr>\n",
              "      <th>95</th>\n",
              "      <td>34749.0</td>\n",
              "      <td>KCCA</td>\n",
              "      <td>Priyanka Mankare</td>\n",
              "      <td>priyanka.mankare@innowaveit.com</td>\n",
              "      <td>Bug 34749&gt;&gt;GIS Portal&gt;&gt;Thematic Representation...</td>\n",
              "      <td>GIS Portal&gt;&gt;Thematic Representation&gt;&gt;User shou...</td>\n",
              "      <td>24.0</td>\n",
              "      <td>0.18</td>\n",
              "      <td>RESOLVED</td>\n",
              "      <td>FIXED ON DEVELOPMENT</td>\n",
              "      <td>26.0</td>\n",
              "      <td>06/09/2020</td>\n",
              "      <td>06/09/2020</td>\n",
              "    </tr>\n",
              "    <tr>\n",
              "      <th>96</th>\n",
              "      <td>34749.0</td>\n",
              "      <td>KCCA</td>\n",
              "      <td>Priyanka Mankare</td>\n",
              "      <td>priyanka.mankare@innowaveit.com</td>\n",
              "      <td>Bug 34749&gt;&gt;GIS Portal&gt;&gt;Thematic Representation...</td>\n",
              "      <td>GIS Portal&gt;&gt;Thematic Representation&gt;&gt;User shou...</td>\n",
              "      <td>24.0</td>\n",
              "      <td>0.10</td>\n",
              "      <td>RESOLVED</td>\n",
              "      <td>FIXED ON DEVELOPMENT</td>\n",
              "      <td>26.0</td>\n",
              "      <td>06/09/2020</td>\n",
              "      <td>06/09/2020</td>\n",
              "    </tr>\n",
              "    <tr>\n",
              "      <th>97</th>\n",
              "      <td>34749.0</td>\n",
              "      <td>KCCA</td>\n",
              "      <td>Manoj Sawan</td>\n",
              "      <td>priyanka.mankare@innowaveit.com</td>\n",
              "      <td>Gis Thematic Table merging with Gis Layers to ...</td>\n",
              "      <td>GIS Portal&gt;&gt;Thematic Representation&gt;&gt;User shou...</td>\n",
              "      <td>24.0</td>\n",
              "      <td>2.75</td>\n",
              "      <td>RESOLVED</td>\n",
              "      <td>FIXED ON DEVELOPMENT</td>\n",
              "      <td>26.0</td>\n",
              "      <td>06/01/2020</td>\n",
              "      <td>06/01/2020</td>\n",
              "    </tr>\n",
              "    <tr>\n",
              "      <th>98</th>\n",
              "      <td>34749.0</td>\n",
              "      <td>KCCA</td>\n",
              "      <td>Manoj Sawan</td>\n",
              "      <td>priyanka.mankare@innowaveit.com</td>\n",
              "      <td>Gis Thematic Table merging with Gis Layers to ...</td>\n",
              "      <td>GIS Portal&gt;&gt;Thematic Representation&gt;&gt;User shou...</td>\n",
              "      <td>24.0</td>\n",
              "      <td>1.00</td>\n",
              "      <td>RESOLVED</td>\n",
              "      <td>FIXED ON DEVELOPMENT</td>\n",
              "      <td>26.0</td>\n",
              "      <td>06/01/2020</td>\n",
              "      <td>06/01/2020</td>\n",
              "    </tr>\n",
              "    <tr>\n",
              "      <th>99</th>\n",
              "      <td>34749.0</td>\n",
              "      <td>KCCA</td>\n",
              "      <td>Manoj Sawan</td>\n",
              "      <td>priyanka.mankare@innowaveit.com</td>\n",
              "      <td>Gis Thematic Table merging with Gis Layers to ...</td>\n",
              "      <td>GIS Portal&gt;&gt;Thematic Representation&gt;&gt;User shou...</td>\n",
              "      <td>24.0</td>\n",
              "      <td>1.50</td>\n",
              "      <td>RESOLVED</td>\n",
              "      <td>FIXED ON DEVELOPMENT</td>\n",
              "      <td>26.0</td>\n",
              "      <td>06/01/2020</td>\n",
              "      <td>06/01/2020</td>\n",
              "    </tr>\n",
              "  </tbody>\n",
              "</table>\n",
              "<p>100 rows × 13 columns</p>\n",
              "</div>"
            ],
            "text/plain": [
              "     Bug ID Product                User  ... Actual Hours Start Date_x    End Date\n",
              "0   34805.0    KCCA  Dharmendra Chouhan  ...          3.0   06/06/2020  06/06/2020\n",
              "1   34805.0    KCCA      Afak Pangarkar  ...          3.0   06/06/2020  06/06/2020\n",
              "2   34805.0    KCCA  Dharmendra Chouhan  ...          3.0   06/06/2020  06/06/2020\n",
              "3   34765.0    KCCA  Dharmendra Chouhan  ...          6.5   06/01/2020  06/01/2020\n",
              "4   34765.0    KCCA  Dharmendra Chouhan  ...          6.5   06/01/2020  06/01/2020\n",
              "..      ...     ...                 ...  ...          ...          ...         ...\n",
              "95  34749.0    KCCA    Priyanka Mankare  ...         26.0   06/09/2020  06/09/2020\n",
              "96  34749.0    KCCA    Priyanka Mankare  ...         26.0   06/09/2020  06/09/2020\n",
              "97  34749.0    KCCA         Manoj Sawan  ...         26.0   06/01/2020  06/01/2020\n",
              "98  34749.0    KCCA         Manoj Sawan  ...         26.0   06/01/2020  06/01/2020\n",
              "99  34749.0    KCCA         Manoj Sawan  ...         26.0   06/01/2020  06/01/2020\n",
              "\n",
              "[100 rows x 13 columns]"
            ]
          },
          "metadata": {
            "tags": []
          },
          "execution_count": 7
        }
      ]
    },
    {
      "cell_type": "markdown",
      "metadata": {
        "id": "6Ln6njF3Xs0K",
        "colab_type": "text"
      },
      "source": [
        "Date and User wise Bugzilla and Clockify Orig Est.,Actual and Clockify Hours sum"
      ]
    },
    {
      "cell_type": "code",
      "metadata": {
        "id": "_abGLp131xfa",
        "colab_type": "code",
        "colab": {
          "base_uri": "https://localhost:8080/",
          "height": 1000
        },
        "outputId": "251c4697-328c-4bb9-cb89-4783a104e5e0"
      },
      "source": [
        "#@title  {display-mode: \"form\"}\n",
        "import numpy as np\n",
        "from math import modf\n",
        "# ,'Start Date_x','End Date'\n",
        "grouped=clockifybugsmer.groupby(['Start Date_x','End Date','User','Orig. Est.','Actual Hours','Bug ID'])\n",
        "grop_bud_sum=grouped['Duration (decimal)'].agg([np.sum])\n",
        "pd.set_option('display.max_rows', grop_bud_sum.shape[0]+1)\n",
        "\n",
        "print(grop_bud_sum)"
      ],
      "execution_count": 8,
      "outputs": [
        {
          "output_type": "stream",
          "text": [
            "                                                                                sum\n",
            "Start Date_x End Date   User                 Orig. Est. Actual Hours Bug ID        \n",
            "06/01/2020   06/01/2020 Dharmendra Chouhan   3.5        2.50         34769.0   2.50\n",
            "                                             16.0       6.50         34765.0   6.50\n",
            "                        Dikshita Soneria     6.0        0.00         34768.0   3.15\n",
            "                                             8.0        0.00         34143.0   3.90\n",
            "                        Manoj Sawan          24.0       26.00        34749.0   9.25\n",
            "                        Priyanka Mankare     6.0        0.00         34768.0   0.25\n",
            "                                             8.0        8.00         34763.0   0.25\n",
            "                        Ravi                 2.0        0.00         34758.0   3.00\n",
            "                                             6.0        6.00         34770.0   5.33\n",
            "06/02/2020   06/02/2020 Dharmendra Chouhan   6.0        6.00         34779.0   6.00\n",
            "                        Dikshita Soneria     6.0        0.00         34768.0   3.42\n",
            "                                                                     34777.0   3.28\n",
            "                        Priyanka Mankare     2.0        2.00         34778.0   0.25\n",
            "                                             6.0        0.00         34777.0   0.50\n",
            "                        Rameshwar Narke      8.0        8.00         34767.0   8.67\n",
            "                        Ravi                 6.0        6.00         34770.0   3.07\n",
            "                                             20.0       0.00         34780.0   5.07\n",
            "06/03/2020   06/03/2020 Chiranjib Pattanayak 6.0        6.00         34751.0   5.51\n",
            "                        Dharmendra Chouhan   3.0        3.75         34782.0   3.75\n",
            "                        Dikshita Soneria     6.0        0.00         34777.0   2.70\n",
            "                                                                     34781.0   5.28\n",
            "                        Priyanka Mankare     6.0        0.00         34781.0   0.75\n",
            "             06/04/2020 Manoj Sawan          40.0       40.00        34667.0   3.32\n",
            "06/04/2020   06/04/2020 Bhushan Raole        2.0        2.00         34792.0   0.18\n",
            "                                                                     34793.0   0.18\n",
            "                                             3.0        3.00         34776.0   0.48\n",
            "                                             4.0        4.00         34796.0   0.23\n",
            "                                             8.0        8.00         34767.0   0.48\n",
            "                        Deepraj Singh Panwar 18.0       0.00         34764.0   7.31\n",
            "                        Dharmendra Chouhan   7.0        7.08         34797.0   7.08\n",
            "                        Dikshita Soneria     6.0        0.00         33871.0   5.02\n",
            "                                                                     34781.0   3.27\n",
            "                        Manoj Sawan          40.0       40.00        34667.0   3.10\n",
            "                        Priyanka Mankare     6.0        0.00         33871.0   0.33\n",
            "                        Rameshwar Narke      2.0        2.00         34792.0   1.33\n",
            "                                                                     34793.0   1.95\n",
            "             06/05/2020 Manoj Sawan          40.0       40.00        34667.0   6.20\n",
            "06/05/2020   06/05/2020 Afak Pangarkar       4.0        4.00         34796.0   0.58\n",
            "                        Bhushan Raole        4.0        4.00         34796.0   0.01\n",
            "                        Deepraj Singh Panwar 4.0        4.00         34796.0   3.34\n",
            "                                             18.0       0.00         34764.0   0.86\n",
            "                        Dharmendra Chouhan   7.0        7.00         34799.0   6.57\n",
            "                        Dikshita Soneria     6.0        0.00         33871.0   3.95\n",
            "                                                                     34444.0   3.65\n",
            "                        Manoj Sawan          40.0       40.00        34667.0   5.25\n",
            "             06/06/2020 Manoj Sawan          40.0       40.00        34667.0   6.88\n",
            "06/06/2020   06/06/2020 Afak Pangarkar       4.0        3.00         34805.0   0.50\n",
            "                        Deepraj Singh Panwar 7.0        0.00         34809.0   7.00\n",
            "                        Dharmendra Chouhan   4.0        3.00         34805.0   2.61\n",
            "                                             6.0        6.00         34807.0   6.03\n",
            "                        Dikshita Soneria     6.0        0.00         33602.0   6.88\n",
            "                                                                     34444.0   1.32\n",
            "                        Manoj Sawan          40.0       40.00        34667.0   4.43\n",
            "                        Priyanka Mankare     4.0        2.00         34808.0   0.15\n",
            "                                             6.0        0.00         33602.0   0.26\n",
            "                        Ravi                 0.0        0.00         34801.0   0.58\n",
            "                                             0.5        0.00         34803.0   0.58\n",
            "                                             24.0       0.00         34804.0   7.14\n",
            "             06/07/2020 Manoj Sawan          40.0       40.00        34667.0   8.17\n",
            "06/07/2020   06/08/2020 Manoj Sawan          40.0       40.00        34667.0   3.77\n",
            "06/08/2020   06/08/2020 Afak Pangarkar       18.0       18.00        34810.0   0.42\n",
            "                        Chiranjib Pattanayak 8.0        0.00         34788.0   1.75\n",
            "                        Deepraj Singh Panwar 7.0        0.00         34809.0   0.92\n",
            "                                             18.0       0.00         34764.0   6.63\n",
            "                        Dharmendra Chouhan   20.0       20.00        34833.0   2.33\n",
            "                        Dikshita Soneria     4.0        4.00         34306.0   6.05\n",
            "                        Manoj Sawan          32.0       32.00        34811.0   8.82\n",
            "                        Ravi                 24.0       0.00         34804.0   7.66\n",
            "06/09/2020   06/09/2020 Afak Pangarkar       24.0       0.00         34819.0   0.33\n",
            "                        Chiranjib Pattanayak 8.0        0.00         34788.0   9.53\n",
            "                        Deepraj Singh Panwar 24.0       0.00         34819.0   4.85\n",
            "                        Dharmendra Chouhan   20.0       20.00        34833.0   0.28\n",
            "                        Dikshita Soneria     0.0        2.00         34812.0   2.10\n",
            "                                             6.0        12.00        34337.0   5.91\n",
            "                        Manoj Sawan          32.0       32.00        34811.0   4.03\n",
            "                        Priyanka Mankare     0.0        2.00         34812.0   0.18\n",
            "                                             10.0       10.00        34818.0   0.12\n",
            "                                             24.0       26.00        34749.0   2.44\n",
            "                        Ravi                 0.3        0.00         34813.0   0.50\n",
            "                                             24.0       0.00         34804.0   7.63\n",
            "             06/10/2020 Manoj Sawan          32.0       32.00        34811.0   5.87\n",
            "06/10/2020   06/10/2020 Chiranjib Pattanayak 4.0        4.00         34816.0  10.71\n",
            "                        Deepraj Singh Panwar 24.0       0.00         34819.0   7.70\n",
            "                        Dharmendra Chouhan   20.0       20.00        34833.0   3.37\n",
            "                        Dikshita Soneria     10.0       10.00        34818.0   8.19\n",
            "                        Manoj Sawan          32.0       32.00        34811.0   5.87\n",
            "                        Priyanka Mankare     0.0        2.00         34812.0   0.14\n",
            "                        Rameshwar Narke      6.0        6.00         34802.0   4.34\n",
            "                        Ravi                 18.0       0.00         34821.0   8.03\n",
            "             06/11/2020 Manoj Sawan          32.0       32.00        34811.0   6.96\n",
            "06/11/2020   06/11/2020 Chiranjib Pattanayak 4.0        4.00         34816.0   3.41\n",
            "                        Deepraj Singh Panwar 24.0       0.00         34819.0   8.37\n",
            "                        Dharmendra Chouhan   20.0       20.00        34833.0   2.14\n",
            "                        Dikshita Soneria     6.0        0.00         34825.0   6.03\n",
            "                                             10.0       10.00        34818.0   1.94\n",
            "                        Manoj Sawan          32.0       32.00        34811.0   6.69\n",
            "                        Rameshwar Narke      6.0        6.00         34802.0   0.54\n",
            "                        Ravi                 18.0       0.00         34821.0   8.13\n",
            "             06/12/2020 Manoj Sawan          32.0       32.00        34811.0   3.86\n",
            "06/12/2020   06/12/2020 Dharmendra Chouhan   2.0        2.00         34778.0   0.49\n",
            "                                             20.0       20.00        34833.0   4.40\n",
            "                        Dikshita Soneria     2.0        0.00         34831.0   2.01\n",
            "                        Priyanka Mankare     4.0        2.00         34808.0   0.88\n",
            "                                             6.0        0.00         34781.0   1.31\n",
            "                        Ravi                 18.0       0.00         34821.0   8.13\n"
          ],
          "name": "stdout"
        }
      ]
    },
    {
      "cell_type": "code",
      "metadata": {
        "id": "wxhaTA9RWe8I",
        "colab_type": "code",
        "colab": {
          "base_uri": "https://localhost:8080/",
          "height": 1000
        },
        "outputId": "0ccff0e4-e399-4919-a8eb-27aff28fa9a3"
      },
      "source": [
        "import numpy as np\n",
        "from math import modf\n",
        "# ,'Start Date_x','End Date'\n",
        "grouped=clockifybugsmer.groupby(['User','Orig. Est.','Actual Hours','Bug ID'])\n",
        "grop_bud_sum=grouped['Duration (decimal)'].agg([np.sum])\n",
        "pd.set_option('display.max_rows', grop_bud_sum.shape[0]+1)\n",
        "\n",
        "print(grop_bud_sum)"
      ],
      "execution_count": 16,
      "outputs": [
        {
          "output_type": "stream",
          "text": [
            "                                                        sum\n",
            "User                 Orig. Est. Actual Hours Bug ID        \n",
            "Afak Pangarkar       4.0        3.00         34805.0   0.50\n",
            "                                4.00         34796.0   0.58\n",
            "                     18.0       18.00        34810.0   0.42\n",
            "                     24.0       0.00         34819.0   0.33\n",
            "Bhushan Raole        2.0        2.00         34792.0   0.18\n",
            "                                             34793.0   0.18\n",
            "                     3.0        3.00         34776.0   0.48\n",
            "                     4.0        4.00         34796.0   0.24\n",
            "                     8.0        8.00         34767.0   0.48\n",
            "Chiranjib Pattanayak 4.0        4.00         34816.0  14.12\n",
            "                     6.0        6.00         34751.0   5.51\n",
            "                     8.0        0.00         34788.0  11.28\n",
            "Deepraj Singh Panwar 4.0        4.00         34796.0   3.34\n",
            "                     7.0        0.00         34809.0   7.92\n",
            "                     18.0       0.00         34764.0  14.80\n",
            "                     24.0       0.00         34819.0  20.92\n",
            "Dharmendra Chouhan   2.0        2.00         34778.0   0.49\n",
            "                     3.0        3.75         34782.0   3.75\n",
            "                     3.5        2.50         34769.0   2.50\n",
            "                     4.0        3.00         34805.0   2.61\n",
            "                     6.0        6.00         34779.0   6.00\n",
            "                                             34807.0   6.03\n",
            "                     7.0        7.00         34799.0   6.57\n",
            "                                7.08         34797.0   7.08\n",
            "                     16.0       6.50         34765.0   6.50\n",
            "                     20.0       20.00        34833.0  12.52\n",
            "Dikshita Soneria     0.0        2.00         34812.0   2.10\n",
            "                     2.0        0.00         34831.0   2.01\n",
            "                     4.0        4.00         34306.0   6.05\n",
            "                     6.0        0.00         33602.0   6.88\n",
            "                                             33871.0   8.97\n",
            "                                             34444.0   4.97\n",
            "                                             34768.0   6.57\n",
            "                                             34777.0   5.98\n",
            "                                             34781.0   8.55\n",
            "                                             34825.0   6.03\n",
            "                                12.00        34337.0   5.91\n",
            "                     8.0        0.00         34143.0   3.90\n",
            "                     10.0       10.00        34818.0  10.13\n",
            "Manoj Sawan          24.0       26.00        34749.0   9.25\n",
            "                     32.0       32.00        34811.0  42.10\n",
            "                     40.0       40.00        34667.0  41.12\n",
            "Priyanka Mankare     0.0        2.00         34812.0   0.32\n",
            "                     2.0        2.00         34778.0   0.25\n",
            "                     4.0        2.00         34808.0   1.03\n",
            "                     6.0        0.00         33602.0   0.26\n",
            "                                             33871.0   0.33\n",
            "                                             34768.0   0.25\n",
            "                                             34777.0   0.50\n",
            "                                             34781.0   2.06\n",
            "                     8.0        8.00         34763.0   0.25\n",
            "                     10.0       10.00        34818.0   0.12\n",
            "                     24.0       26.00        34749.0   2.44\n",
            "Rameshwar Narke      2.0        2.00         34792.0   1.33\n",
            "                                             34793.0   1.95\n",
            "                     6.0        6.00         34802.0   4.88\n",
            "                     8.0        8.00         34767.0   8.67\n",
            "Ravi                 0.0        0.00         34801.0   0.58\n",
            "                     0.3        0.00         34813.0   0.50\n",
            "                     0.5        0.00         34803.0   0.58\n",
            "                     2.0        0.00         34758.0   3.00\n",
            "                     6.0        6.00         34770.0   8.40\n",
            "                     18.0       0.00         34821.0  24.29\n",
            "                     20.0       0.00         34780.0   5.07\n",
            "                     24.0       0.00         34804.0  22.43\n"
          ],
          "name": "stdout"
        }
      ]
    },
    {
      "cell_type": "code",
      "metadata": {
        "id": "APrfrm1zM2G4",
        "colab_type": "code",
        "colab": {
          "base_uri": "https://localhost:8080/",
          "height": 380
        },
        "outputId": "977e082a-9b22-4ec4-8206-7fe215a916d0"
      },
      "source": [
        "import matplotlib.pyplot as plt\n",
        "import pandas as pd\n",
        "\n",
        "clockifybugsmer.groupby('User')['Duration (decimal)'].nunique().plot(kind='bar')\n",
        "plt.show()\n",
        "\n"
      ],
      "execution_count": 18,
      "outputs": [
        {
          "output_type": "display_data",
          "data": {
            "image/png": "[encoded data removed]",
            "text/plain": [
              "<Figure size 432x288 with 1 Axes>"
            ]
          },
          "metadata": {
            "tags": [],
            "needs_background": "light"
          }
        }
      ]
    },
    {
      "cell_type": "code",
      "metadata": {
        "id": "AwFXefWNVHoi",
        "colab_type": "code",
        "colab": {
          "base_uri": "https://localhost:8080/",
          "height": 217
        },
        "outputId": "d3b8d400-1d16-42b7-b3cb-94f96b4dd75e"
      },
      "source": [
        "print(clockifybugsmer.groupby('User')['Duration (decimal)'].nunique())"
      ],
      "execution_count": 22,
      "outputs": [
        {
          "output_type": "stream",
          "text": [
            "User\n",
            "Afak Pangarkar           4\n",
            "Bhushan Raole            4\n",
            "Chiranjib Pattanayak    12\n",
            "Deepraj Singh Panwar    18\n",
            "Dharmendra Chouhan      29\n",
            "Dikshita Soneria        46\n",
            "Manoj Sawan             25\n",
            "Priyanka Mankare        13\n",
            "Rameshwar Narke         10\n",
            "Ravi                    21\n",
            "Name: Duration (decimal), dtype: int64\n"
          ],
          "name": "stdout"
        }
      ]
    }
  ]
}