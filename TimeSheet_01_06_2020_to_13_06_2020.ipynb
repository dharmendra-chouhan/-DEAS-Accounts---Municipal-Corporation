{
  "nbformat": 4,
  "nbformat_minor": 0,
  "metadata": {
    "colab": {
      "name": "TimeSheet_01_06_2020_to_13_06_2020.ipynb",
      "provenance": [],
      "collapsed_sections": [],
      "authorship_tag": "ABX9TyMVsCxGlyC0JMLs/th+onm4",
      "include_colab_link": true
    },
    "kernelspec": {
      "name": "python3",
      "display_name": "Python 3"
    }
  },
  "cells": [
    {
      "cell_type": "markdown",
      "metadata": {
        "id": "view-in-github",
        "colab_type": "text"
      },
      "source": [
        "<a href=\"https://colab.research.google.com/github/dharmendra-chouhan/-DEAS-Accounts---Municipal-Corporation/blob/master/TimeSheet_01_06_2020_to_13_06_2020.ipynb\" target=\"_parent\"><img src=\"https://colab.research.google.com/assets/colab-badge.svg\" alt=\"Open In Colab\"/></a>"
      ]
    },
    {
      "cell_type": "code",
      "metadata": {
        "id": "cUcD_aKMmVtV",
        "colab_type": "code",
        "colab": {}
      },
      "source": [
        "#@title  {display-mode: \"form\"}\n",
        "import pandas as pd"
      ],
      "execution_count": 1,
      "outputs": []
    },
    {
      "cell_type": "markdown",
      "metadata": {
        "id": "ksAgLmmUmnak",
        "colab_type": "text"
      },
      "source": [
        "import Data bugzilla"
      ]
    },
    {
      "cell_type": "code",
      "metadata": {
        "id": "i_IyHPYgmub7",
        "colab_type": "code",
        "colab": {
          "resources": {
            "http://localhost:8080/nbextensions/google.colab/files.js": {
              "data": "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",
              "ok": true,
              "headers": [
                [
                  "content-type",
                  "application/javascript"
                ]
              ],
              "status": 200,
              "status_text": ""
            }
          },
          "base_uri": "https://localhost:8080/",
          "height": 73
        },
        "outputId": "6e36adff-c600-42db-e878-428cb316620c"
      },
      "source": [
        "#@title  {display-mode: \"form\"}\n",
        "from google.colab import files\n",
        "uploaded = files.upload()"
      ],
      "execution_count": 2,
      "outputs": [
        {
          "output_type": "display_data",
          "data": {
            "text/html": [
              "\n",
              "     <input type=\"file\" id=\"files-cf79930a-c845-447c-9bb6-90b95ef558b8\" name=\"files[]\" multiple disabled\n",
              "        style=\"border:none\" />\n",
              "     <output id=\"result-cf79930a-c845-447c-9bb6-90b95ef558b8\">\n",
              "      Upload widget is only available when the cell has been executed in the\n",
              "      current browser session. Please rerun this cell to enable.\n",
              "      </output>\n",
              "      <script src=\"/nbextensions/google.colab/files.js\"></script> "
            ],
            "text/plain": [
              "<IPython.core.display.HTML object>"
            ]
          },
          "metadata": {
            "tags": []
          }
        },
        {
          "output_type": "stream",
          "text": [
            "Saving bugs-2020-06-16.csv to bugs-2020-06-16.csv\n"
          ],
          "name": "stdout"
        }
      ]
    },
    {
      "cell_type": "code",
      "metadata": {
        "id": "KjrbYhG9As6v",
        "colab_type": "code",
        "colab": {}
      },
      "source": [
        "#@title  {display-mode: \"form\"}\n",
        "bugzilla_1junto13jun= pd.read_csv('bugs-2020-06-16.csv', encoding='latin-1')"
      ],
      "execution_count": 3,
      "outputs": []
    },
    {
      "cell_type": "code",
      "metadata": {
        "id": "-PbiZwNIC0fB",
        "colab_type": "code",
        "colab": {
          "base_uri": "https://localhost:8080/",
          "height": 311
        },
        "outputId": "9eb6ec91-6acb-4ffd-f647-c1feb1df897c"
      },
      "source": [
        "bugzilla_1junto13jun.head(2)"
      ],
      "execution_count": 4,
      "outputs": [
        {
          "output_type": "execute_result",
          "data": {
            "text/html": [
              "<div>\n",
              "<style scoped>\n",
              "    .dataframe tbody tr th:only-of-type {\n",
              "        vertical-align: middle;\n",
              "    }\n",
              "\n",
              "    .dataframe tbody tr th {\n",
              "        vertical-align: top;\n",
              "    }\n",
              "\n",
              "    .dataframe thead th {\n",
              "        text-align: right;\n",
              "    }\n",
              "</style>\n",
              "<table border=\"1\" class=\"dataframe\">\n",
              "  <thead>\n",
              "    <tr style=\"text-align: right;\">\n",
              "      <th></th>\n",
              "      <th>Bug ID</th>\n",
              "      <th>Product</th>\n",
              "      <th>Component</th>\n",
              "      <th>Assignee</th>\n",
              "      <th>Orig. Est.</th>\n",
              "      <th>Status</th>\n",
              "      <th>Resolution</th>\n",
              "      <th>Summary</th>\n",
              "      <th>Changed</th>\n",
              "      <th>Deadline</th>\n",
              "      <th>Actual Hours</th>\n",
              "      <th>Start Date</th>\n",
              "      <th>Patch Release Version (Defect Closure-For Developers )</th>\n",
              "      <th>Patch Release Version (Defect Open- For Testers)</th>\n",
              "      <th>Project Name</th>\n",
              "    </tr>\n",
              "  </thead>\n",
              "  <tbody>\n",
              "    <tr>\n",
              "      <th>0</th>\n",
              "      <td>33115</td>\n",
              "      <td>KCCA</td>\n",
              "      <td>Document Management System</td>\n",
              "      <td>adaundkar51@gmail.com</td>\n",
              "      <td>2.0</td>\n",
              "      <td>VERIFIED</td>\n",
              "      <td>TESTING CLOSED</td>\n",
              "      <td>In Routing History form, When (Non-Actionable)...</td>\n",
              "      <td>2019-09-18 15:37:01</td>\n",
              "      <td>2019-08-22</td>\n",
              "      <td>0.0</td>\n",
              "      <td>2019-08-22</td>\n",
              "      <td>V 2.09</td>\n",
              "      <td>V 2.06</td>\n",
              "      <td>NaN</td>\n",
              "    </tr>\n",
              "    <tr>\n",
              "      <th>1</th>\n",
              "      <td>33181</td>\n",
              "      <td>KCCA</td>\n",
              "      <td>Document Management System</td>\n",
              "      <td>adaundkar51@gmail.com</td>\n",
              "      <td>1.0</td>\n",
              "      <td>VERIFIED</td>\n",
              "      <td>TESTING CLOSED</td>\n",
              "      <td>DMS&gt;&gt;Report&gt;&gt;Logical Folder Structure Report&gt;&gt;...</td>\n",
              "      <td>2019-09-17 16:05:45</td>\n",
              "      <td>2019-08-30</td>\n",
              "      <td>0.0</td>\n",
              "      <td>2019-08-30</td>\n",
              "      <td>V 2.09</td>\n",
              "      <td>---</td>\n",
              "      <td>NaN</td>\n",
              "    </tr>\n",
              "  </tbody>\n",
              "</table>\n",
              "</div>"
            ],
            "text/plain": [
              "   Bug ID  ... Project Name\n",
              "0   33115  ...          NaN\n",
              "1   33181  ...          NaN\n",
              "\n",
              "[2 rows x 15 columns]"
            ]
          },
          "metadata": {
            "tags": []
          },
          "execution_count": 4
        }
      ]
    },
    {
      "cell_type": "markdown",
      "metadata": {
        "id": "YrNp5jSd0oVe",
        "colab_type": "text"
      },
      "source": [
        "import Data clockify"
      ]
    },
    {
      "cell_type": "code",
      "metadata": {
        "id": "BcjwKvv30jCi",
        "colab_type": "code",
        "colab": {
          "resources": {
            "http://localhost:8080/nbextensions/google.colab/files.js": {
              "data": "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",
              "ok": true,
              "headers": [
                [
                  "content-type",
                  "application/javascript"
                ]
              ],
              "status": 200,
              "status_text": ""
            }
          },
          "base_uri": "https://localhost:8080/",
          "height": 73
        },
        "outputId": "088aeea5-b8bb-44bd-a148-67a349a8d18f"
      },
      "source": [
        "#@title  {display-mode: \"form\"}\n",
        "from google.colab import files\n",
        "uploaded = files.upload()"
      ],
      "execution_count": 6,
      "outputs": [
        {
          "output_type": "display_data",
          "data": {
            "text/html": [
              "\n",
              "     <input type=\"file\" id=\"files-51e29eaf-80a7-4251-9113-84a8bfaa1a7d\" name=\"files[]\" multiple disabled\n",
              "        style=\"border:none\" />\n",
              "     <output id=\"result-51e29eaf-80a7-4251-9113-84a8bfaa1a7d\">\n",
              "      Upload widget is only available when the cell has been executed in the\n",
              "      current browser session. Please rerun this cell to enable.\n",
              "      </output>\n",
              "      <script src=\"/nbextensions/google.colab/files.js\"></script> "
            ],
            "text/plain": [
              "<IPython.core.display.HTML object>"
            ]
          },
          "metadata": {
            "tags": []
          }
        },
        {
          "output_type": "stream",
          "text": [
            "Saving Clockify_Detailed_Report_06_01_2020-06_13_2020.csv to Clockify_Detailed_Report_06_01_2020-06_13_2020.csv\n"
          ],
          "name": "stdout"
        }
      ]
    },
    {
      "cell_type": "code",
      "metadata": {
        "id": "hQ6W-Ctv0ufQ",
        "colab_type": "code",
        "colab": {}
      },
      "source": [
        "#@title  {display-mode: \"form\"}\n",
        "clockify_1junto13jun= pd.read_csv('Clockify_Detailed_Report_06_01_2020-06_13_2020.csv', encoding='latin-1')"
      ],
      "execution_count": 7,
      "outputs": []
    },
    {
      "cell_type": "markdown",
      "metadata": {
        "id": "lYghll4m1P1K",
        "colab_type": "text"
      },
      "source": [
        "**Clockify and Bugzilla Merging Data**"
      ]
    },
    {
      "cell_type": "code",
      "metadata": {
        "id": "w-R7OL2H1O8i",
        "colab_type": "code",
        "colab": {
          "base_uri": "https://localhost:8080/",
          "height": 1000
        },
        "outputId": "199ad0c2-5461-4a93-da03-a6d13a499cd4"
      },
      "source": [
        "#@title  {display-mode: \"form\"}\n",
        "scriteria = bugzilla_1junto13jun['Bug ID'].values.tolist()  \n",
        "df=pd.DataFrame(clockify_1junto13jun)\n",
        "clockifybugs = df[0:0]\n",
        "clockify_1junto13jun['Bug ID'] =0\n",
        "for x in scriteria:\n",
        "  df=pd.DataFrame(clockify_1junto13jun[clockify_1junto13jun['Description'].str.upper().str.contains(str(x))])\n",
        "  df['Bug ID'] =x\n",
        "  clockifybugs=clockifybugs.append(df)\n",
        "clockifybugs = pd.merge(clockifybugs, bugzilla_1junto13jun, on='Bug ID')\n",
        "clockifybugsmer=clockifybugs[['Bug ID','Product', 'User','Assignee','Description','Summary','Orig. Est.','Duration (decimal)','Status','Resolution','Actual Hours','Start Date_x','End Date']] \n",
        "clockifybugsmer\n"
      ],
      "execution_count": 8,
      "outputs": [
        {
          "output_type": "execute_result",
          "data": {
            "text/html": [
              "<div>\n",
              "<style scoped>\n",
              "    .dataframe tbody tr th:only-of-type {\n",
              "        vertical-align: middle;\n",
              "    }\n",
              "\n",
              "    .dataframe tbody tr th {\n",
              "        vertical-align: top;\n",
              "    }\n",
              "\n",
              "    .dataframe thead th {\n",
              "        text-align: right;\n",
              "    }\n",
              "</style>\n",
              "<table border=\"1\" class=\"dataframe\">\n",
              "  <thead>\n",
              "    <tr style=\"text-align: right;\">\n",
              "      <th></th>\n",
              "      <th>Bug ID</th>\n",
              "      <th>Product</th>\n",
              "      <th>User</th>\n",
              "      <th>Assignee</th>\n",
              "      <th>Description</th>\n",
              "      <th>Summary</th>\n",
              "      <th>Orig. Est.</th>\n",
              "      <th>Duration (decimal)</th>\n",
              "      <th>Status</th>\n",
              "      <th>Resolution</th>\n",
              "      <th>Actual Hours</th>\n",
              "      <th>Start Date_x</th>\n",
              "      <th>End Date</th>\n",
              "    </tr>\n",
              "  </thead>\n",
              "  <tbody>\n",
              "    <tr>\n",
              "      <th>0</th>\n",
              "      <td>29255.0</td>\n",
              "      <td>KCCA</td>\n",
              "      <td>Priyesh Panvalkar</td>\n",
              "      <td>adaundkar51@gmail.com</td>\n",
              "      <td>Bug 29255 - After pre and post payment , In po...</td>\n",
              "      <td>In Scrutiny Report, Department Name,Designatio...</td>\n",
              "      <td>1.0</td>\n",
              "      <td>1.00</td>\n",
              "      <td>VERIFIED</td>\n",
              "      <td>TESTING CLOSED</td>\n",
              "      <td>1.0</td>\n",
              "      <td>06/01/2020</td>\n",
              "      <td>06/01/2020</td>\n",
              "    </tr>\n",
              "    <tr>\n",
              "      <th>1</th>\n",
              "      <td>34764.0</td>\n",
              "      <td>Aksentech_Payroll</td>\n",
              "      <td>Deepraj Singh Panwar</td>\n",
              "      <td>afak.pangarkar@gmail.com</td>\n",
              "      <td>Bug 34764 - User Log - Login and Logout Captur...</td>\n",
              "      <td>User Log - Login and Logout Capturing the Even...</td>\n",
              "      <td>18.0</td>\n",
              "      <td>1.80</td>\n",
              "      <td>RESOLVED</td>\n",
              "      <td>FIXED ON DEVELOPMENT</td>\n",
              "      <td>0.0</td>\n",
              "      <td>06/08/2020</td>\n",
              "      <td>06/08/2020</td>\n",
              "    </tr>\n",
              "    <tr>\n",
              "      <th>2</th>\n",
              "      <td>34764.0</td>\n",
              "      <td>Aksentech_Payroll</td>\n",
              "      <td>Deepraj Singh Panwar</td>\n",
              "      <td>afak.pangarkar@gmail.com</td>\n",
              "      <td>Bug 34764 - User Log - Login and Logout Captur...</td>\n",
              "      <td>User Log - Login and Logout Capturing the Even...</td>\n",
              "      <td>18.0</td>\n",
              "      <td>4.83</td>\n",
              "      <td>RESOLVED</td>\n",
              "      <td>FIXED ON DEVELOPMENT</td>\n",
              "      <td>0.0</td>\n",
              "      <td>06/08/2020</td>\n",
              "      <td>06/08/2020</td>\n",
              "    </tr>\n",
              "    <tr>\n",
              "      <th>3</th>\n",
              "      <td>34764.0</td>\n",
              "      <td>Aksentech_Payroll</td>\n",
              "      <td>Deepraj Singh Panwar</td>\n",
              "      <td>afak.pangarkar@gmail.com</td>\n",
              "      <td>Bug 34764 - User Log - Login and Logout Captur...</td>\n",
              "      <td>User Log - Login and Logout Capturing the Even...</td>\n",
              "      <td>18.0</td>\n",
              "      <td>0.86</td>\n",
              "      <td>RESOLVED</td>\n",
              "      <td>FIXED ON DEVELOPMENT</td>\n",
              "      <td>0.0</td>\n",
              "      <td>06/05/2020</td>\n",
              "      <td>06/05/2020</td>\n",
              "    </tr>\n",
              "    <tr>\n",
              "      <th>4</th>\n",
              "      <td>34764.0</td>\n",
              "      <td>Aksentech_Payroll</td>\n",
              "      <td>Deepraj Singh Panwar</td>\n",
              "      <td>afak.pangarkar@gmail.com</td>\n",
              "      <td>Bug 34764 - User Log - Login and Logout Captur...</td>\n",
              "      <td>User Log - Login and Logout Capturing the Even...</td>\n",
              "      <td>18.0</td>\n",
              "      <td>0.77</td>\n",
              "      <td>RESOLVED</td>\n",
              "      <td>FIXED ON DEVELOPMENT</td>\n",
              "      <td>0.0</td>\n",
              "      <td>06/04/2020</td>\n",
              "      <td>06/04/2020</td>\n",
              "    </tr>\n",
              "    <tr>\n",
              "      <th>...</th>\n",
              "      <td>...</td>\n",
              "      <td>...</td>\n",
              "      <td>...</td>\n",
              "      <td>...</td>\n",
              "      <td>...</td>\n",
              "      <td>...</td>\n",
              "      <td>...</td>\n",
              "      <td>...</td>\n",
              "      <td>...</td>\n",
              "      <td>...</td>\n",
              "      <td>...</td>\n",
              "      <td>...</td>\n",
              "      <td>...</td>\n",
              "    </tr>\n",
              "    <tr>\n",
              "      <th>343</th>\n",
              "      <td>34648.0</td>\n",
              "      <td>Aksentech_Payroll</td>\n",
              "      <td>santhosh</td>\n",
              "      <td>santhoshkodurijava@gmail.com</td>\n",
              "      <td>34648  client Master and project detail Add,Ed...</td>\n",
              "      <td>Client Master and Project detail Add , Edit an...</td>\n",
              "      <td>32.0</td>\n",
              "      <td>8.50</td>\n",
              "      <td>RESOLVED</td>\n",
              "      <td>FIXED ON DEVELOPMENT</td>\n",
              "      <td>0.0</td>\n",
              "      <td>06/05/2020</td>\n",
              "      <td>06/05/2020</td>\n",
              "    </tr>\n",
              "    <tr>\n",
              "      <th>344</th>\n",
              "      <td>34648.0</td>\n",
              "      <td>Aksentech_Payroll</td>\n",
              "      <td>santhosh</td>\n",
              "      <td>santhoshkodurijava@gmail.com</td>\n",
              "      <td>34648  client Master and project detail Add,Ed...</td>\n",
              "      <td>Client Master and Project detail Add , Edit an...</td>\n",
              "      <td>32.0</td>\n",
              "      <td>10.50</td>\n",
              "      <td>RESOLVED</td>\n",
              "      <td>FIXED ON DEVELOPMENT</td>\n",
              "      <td>0.0</td>\n",
              "      <td>06/04/2020</td>\n",
              "      <td>06/04/2020</td>\n",
              "    </tr>\n",
              "    <tr>\n",
              "      <th>345</th>\n",
              "      <td>34648.0</td>\n",
              "      <td>Aksentech_Payroll</td>\n",
              "      <td>santhosh</td>\n",
              "      <td>santhoshkodurijava@gmail.com</td>\n",
              "      <td>34648  client Master and project detail Add,Ed...</td>\n",
              "      <td>Client Master and Project detail Add , Edit an...</td>\n",
              "      <td>32.0</td>\n",
              "      <td>9.50</td>\n",
              "      <td>RESOLVED</td>\n",
              "      <td>FIXED ON DEVELOPMENT</td>\n",
              "      <td>0.0</td>\n",
              "      <td>06/03/2020</td>\n",
              "      <td>06/03/2020</td>\n",
              "    </tr>\n",
              "    <tr>\n",
              "      <th>346</th>\n",
              "      <td>34648.0</td>\n",
              "      <td>Aksentech_Payroll</td>\n",
              "      <td>santhosh</td>\n",
              "      <td>santhoshkodurijava@gmail.com</td>\n",
              "      <td>34648  client Master and project detail Add,Ed...</td>\n",
              "      <td>Client Master and Project detail Add , Edit an...</td>\n",
              "      <td>32.0</td>\n",
              "      <td>9.50</td>\n",
              "      <td>RESOLVED</td>\n",
              "      <td>FIXED ON DEVELOPMENT</td>\n",
              "      <td>0.0</td>\n",
              "      <td>06/02/2020</td>\n",
              "      <td>06/02/2020</td>\n",
              "    </tr>\n",
              "    <tr>\n",
              "      <th>347</th>\n",
              "      <td>34648.0</td>\n",
              "      <td>Aksentech_Payroll</td>\n",
              "      <td>santhosh</td>\n",
              "      <td>santhoshkodurijava@gmail.com</td>\n",
              "      <td>34648  client Master and project detail Add,Ed...</td>\n",
              "      <td>Client Master and Project detail Add , Edit an...</td>\n",
              "      <td>32.0</td>\n",
              "      <td>9.50</td>\n",
              "      <td>RESOLVED</td>\n",
              "      <td>FIXED ON DEVELOPMENT</td>\n",
              "      <td>0.0</td>\n",
              "      <td>06/01/2020</td>\n",
              "      <td>06/01/2020</td>\n",
              "    </tr>\n",
              "  </tbody>\n",
              "</table>\n",
              "<p>348 rows × 13 columns</p>\n",
              "</div>"
            ],
            "text/plain": [
              "      Bug ID            Product  ... Start Date_x    End Date\n",
              "0    29255.0               KCCA  ...   06/01/2020  06/01/2020\n",
              "1    34764.0  Aksentech_Payroll  ...   06/08/2020  06/08/2020\n",
              "2    34764.0  Aksentech_Payroll  ...   06/08/2020  06/08/2020\n",
              "3    34764.0  Aksentech_Payroll  ...   06/05/2020  06/05/2020\n",
              "4    34764.0  Aksentech_Payroll  ...   06/04/2020  06/04/2020\n",
              "..       ...                ...  ...          ...         ...\n",
              "343  34648.0  Aksentech_Payroll  ...   06/05/2020  06/05/2020\n",
              "344  34648.0  Aksentech_Payroll  ...   06/04/2020  06/04/2020\n",
              "345  34648.0  Aksentech_Payroll  ...   06/03/2020  06/03/2020\n",
              "346  34648.0  Aksentech_Payroll  ...   06/02/2020  06/02/2020\n",
              "347  34648.0  Aksentech_Payroll  ...   06/01/2020  06/01/2020\n",
              "\n",
              "[348 rows x 13 columns]"
            ]
          },
          "metadata": {
            "tags": []
          },
          "execution_count": 8
        }
      ]
    },
    {
      "cell_type": "markdown",
      "metadata": {
        "id": "6Ln6njF3Xs0K",
        "colab_type": "text"
      },
      "source": [
        "Date and User wise Bugzilla and Clockify Orig Est.,Actual and Clockify Hours sum"
      ]
    },
    {
      "cell_type": "code",
      "metadata": {
        "id": "_abGLp131xfa",
        "colab_type": "code",
        "colab": {
          "base_uri": "https://localhost:8080/",
          "height": 1000
        },
        "outputId": "57bf2c35-a061-422c-9863-262e1a0d6323"
      },
      "source": [
        "#@title  {display-mode: \"form\"}\n",
        "import numpy as np\n",
        "from math import modf\n",
        "# ,'Start Date_x','End Date'\n",
        "grouped=clockifybugsmer.groupby(['Start Date_x','End Date','User','Orig. Est.','Actual Hours','Bug ID'])\n",
        "grop_bud_sum=grouped['Duration (decimal)'].agg([np.sum])\n",
        "pd.set_option('display.max_rows', grop_bud_sum.shape[0]+1)\n",
        "\n",
        "print(grop_bud_sum)"
      ],
      "execution_count": 9,
      "outputs": [
        {
          "output_type": "stream",
          "text": [
            "                                                                                sum\n",
            "Start Date_x End Date   User                 Orig. Est. Actual Hours Bug ID        \n",
            "06/01/2020   06/01/2020 Chiranjib Pattanayak 0.0        0.00         34724.0   2.00\n",
            "                                                                     34725.0   2.50\n",
            "                                                                     34729.0   1.67\n",
            "                                                                     34731.0   2.33\n",
            "                        Dharmendra Chouhan   3.5        2.50         34769.0   2.50\n",
            "                                             16.0       6.50         34765.0   6.50\n",
            "                        Dikshita Soneria     6.0        6.00         34768.0   3.15\n",
            "                                             8.0        8.00         34143.0   3.90\n",
            "                        Manoj Sawan          24.0       26.00        34749.0   9.25\n",
            "                        Priyanka Mankare     6.0        6.00         34768.0   0.25\n",
            "                                             8.0        8.00         34763.0   0.25\n",
            "                        Priyesh Panvalkar    1.0        0.00         24368.0   0.50\n",
            "                                                        1.00         29255.0   1.00\n",
            "                        Rameshwar Narke      0.0        0.00         34766.0   9.42\n",
            "                        Ravi                 2.0        0.00         34758.0   3.00\n",
            "                                             6.0        6.00         34770.0   5.33\n",
            "                        santhosh             32.0       0.00         34648.0   9.50\n",
            "06/02/2020   06/02/2020 Chiranjib Pattanayak 0.0        0.00         34734.0   3.08\n",
            "                                                                     34740.0   2.00\n",
            "                                                                     34741.0   2.00\n",
            "                                                                     34742.0   2.00\n",
            "                        Dharmendra Chouhan   6.0        6.00         34779.0   6.00\n",
            "                        Dikshita Soneria     6.0        6.00         34768.0   3.42\n",
            "                                                                     34777.0   3.28\n",
            "                        Priyanka Mankare     2.0        2.00         34778.0   0.25\n",
            "                                             6.0        6.00         34777.0   0.50\n",
            "                                             18.0       18.00        34593.0   2.25\n",
            "                                             40.0       40.00        34572.0   2.50\n",
            "                        Priyesh Panvalkar    0.0        0.00         30224.0   0.83\n",
            "                        Rameshwar Narke      8.0        8.00         34767.0   8.67\n",
            "                        Ravi                 0.0        0.00         34771.0   5.07\n",
            "                                             6.0        6.00         34770.0   3.07\n",
            "                                             20.0       0.00         34780.0   5.07\n",
            "                        santhosh             32.0       0.00         34648.0   9.50\n",
            "06/03/2020   06/03/2020 Chiranjib Pattanayak 0.0        0.00         34752.0   2.94\n",
            "                                             6.0        6.00         34751.0   5.51\n",
            "                        Dharmendra Chouhan   3.0        3.75         34782.0   3.75\n",
            "                        Dikshita Soneria     6.0        6.00         34777.0   2.70\n",
            "                                                        8.00         34781.0   5.28\n",
            "                        Manoj Sawan          8.0        8.00         34604.0   4.40\n",
            "                        Priyanka Mankare     6.0        8.00         34781.0   0.75\n",
            "                                             32.0       32.00        34647.0   2.00\n",
            "                        santhosh             32.0       0.00         34648.0   9.50\n",
            "             06/04/2020 Manoj Sawan          40.0       40.00        34667.0   3.32\n",
            "06/04/2020   06/04/2020 Bhushan Raole        0.0        0.00         34795.0   0.23\n",
            "                                             2.0        2.00         34792.0   0.18\n",
            "                                                                     34793.0   0.18\n",
            "                                             3.0        3.00         34776.0   0.48\n",
            "                                             4.0        4.00         34796.0   0.23\n",
            "                                             8.0        8.00         34767.0   0.48\n",
            "                        Chiranjib Pattanayak 0.0        0.00         34752.0   8.46\n",
            "                        Deepraj Singh Panwar 18.0       0.00         34764.0   7.31\n",
            "                        Dharmendra Chouhan   7.0        7.08         34797.0   7.08\n",
            "                        Dikshita Soneria     6.0        8.00         33871.0   5.02\n",
            "                                                                     34781.0   3.27\n",
            "                        Manoj Sawan          40.0       40.00        34667.0   3.10\n",
            "                        Priyanka Mankare     0.0        8.00         34706.0   2.42\n",
            "                                             6.0        8.00         33871.0   0.33\n",
            "                                             16.0       16.00        34663.0   0.82\n",
            "                        Rameshwar Narke      0.0        0.00         34791.0   3.39\n",
            "                                                                     34794.0   1.33\n",
            "                                             2.0        2.00         34792.0   1.33\n",
            "                                                                     34793.0   1.95\n",
            "                        Ravi                 0.0        0.00         34786.0   6.25\n",
            "                        santhosh             32.0       0.00         34648.0  10.50\n",
            "             06/05/2020 Manoj Sawan          40.0       40.00        34667.0   6.20\n",
            "06/05/2020   06/05/2020 Afak Pangarkar       0.0        0.00         34795.0   1.33\n",
            "                                             4.0        4.00         34796.0   0.58\n",
            "                        Bhushan Raole        0.0        0.00         34795.0   0.06\n",
            "                                             4.0        4.00         34796.0   0.01\n",
            "                        Chiranjib Pattanayak 0.0        0.00         34752.0   8.61\n",
            "                        Deepraj Singh Panwar 0.0        0.00         34800.0   4.40\n",
            "                                             4.0        4.00         34796.0   3.34\n",
            "                                             18.0       0.00         34764.0   0.86\n",
            "                        Dharmendra Chouhan   7.0        7.00         34799.0   6.57\n",
            "                        Dikshita Soneria     6.0        4.00         34444.0   3.65\n",
            "                                                        8.00         33871.0   3.95\n",
            "                        Manoj Sawan          40.0       40.00        34667.0   5.25\n",
            "                        Priyanka Mankare     0.0        0.00         34255.0   0.92\n",
            "                        Rameshwar Narke      0.0        0.00         34795.0   2.93\n",
            "                        Ravi                 0.0        0.00         34786.0   8.24\n",
            "                        santhosh             32.0       0.00         34648.0   8.50\n",
            "             06/06/2020 Manoj Sawan          40.0       40.00        34667.0   6.88\n",
            "06/06/2020   06/06/2020 Afak Pangarkar       4.0        3.00         34805.0   0.50\n",
            "                        Chiranjib Pattanayak 0.0        0.00         34752.0   5.03\n",
            "                        Deepraj Singh Panwar 7.0        0.00         34809.0   7.00\n",
            "                        Dharmendra Chouhan   4.0        3.00         34805.0   2.61\n",
            "                                             6.0        6.00         34807.0   6.03\n",
            "                        Dikshita Soneria     6.0        4.00         34444.0   1.32\n",
            "                                                        10.00        33602.0   6.88\n",
            "                        Manoj Sawan          40.0       40.00        34667.0   4.43\n",
            "                        Priyanka Mankare     0.0        0.00         34738.0   0.43\n",
            "                                                                     34806.0   0.19\n",
            "                                                        4.00         34743.0   0.84\n",
            "                                                                     34744.0   1.35\n",
            "                                             4.0        2.00         34808.0   0.15\n",
            "                                                        4.00         34618.0   1.27\n",
            "                                             6.0        10.00        33602.0   0.26\n",
            "                                             8.0        8.00         34604.0   2.90\n",
            "                        Ravi                 0.0        0.00         34801.0   0.58\n",
            "                                             0.5        0.00         34803.0   0.58\n",
            "                                             24.0       0.00         34804.0   7.14\n",
            "                        santhosh             32.0       0.00         34648.0  10.20\n",
            "             06/07/2020 Manoj Sawan          40.0       40.00        34667.0   8.17\n",
            "06/07/2020   06/08/2020 Manoj Sawan          40.0       40.00        34667.0   3.77\n",
            "06/08/2020   06/08/2020 Afak Pangarkar       18.0       18.00        34810.0   0.42\n",
            "                        Ashok Parmar         0.0        0.00         34806.0   3.07\n",
            "                        Chiranjib Pattanayak 8.0        0.00         34788.0   1.75\n",
            "                        Deepraj Singh Panwar 7.0        0.00         34809.0   0.92\n",
            "                                             18.0       0.00         34764.0   6.63\n",
            "                        Dharmendra Chouhan   20.0       20.00        34833.0   2.33\n",
            "                        Dikshita Soneria     4.0        4.00         34306.0   6.05\n",
            "                        Manoj Sawan          32.0       32.00        34811.0   8.82\n",
            "                        Rameshwar Narke      0.0        0.00         34791.0   8.13\n",
            "                        Ravi                 24.0       0.00         34804.0   7.66\n",
            "                        santhosh             32.0       0.00         34648.0  10.20\n",
            "06/09/2020   06/09/2020 Afak Pangarkar       24.0       0.00         34819.0   0.33\n",
            "                        Ashok Parmar         0.0        0.00         34806.0   5.94\n",
            "                        Chiranjib Pattanayak 8.0        0.00         34788.0   9.53\n",
            "                        Deepraj Singh Panwar 24.0       0.00         34819.0   4.85\n",
            "                        Dharmendra Chouhan   20.0       20.00        34833.0   0.28\n",
            "                        Dikshita Soneria     2.0        2.00         34812.0   2.10\n",
            "                                             6.0        12.00        34337.0   5.91\n",
            "                        Manoj Sawan          32.0       32.00        34811.0   4.03\n",
            "                        Priyanka Mankare     2.0        2.00         34812.0   0.18\n",
            "                                             10.0       10.00        34818.0   0.12\n",
            "                                             16.0       16.00        34663.0   0.76\n",
            "                                             24.0       26.00        34749.0   2.44\n",
            "                        Rameshwar Narke      0.0        0.00         34791.0   8.27\n",
            "                        Ravi                 0.3        0.00         34813.0   0.50\n",
            "                                             24.0       0.00         34804.0   7.63\n",
            "                        santhosh             32.0       0.00         34648.0   8.50\n",
            "             06/10/2020 Manoj Sawan          32.0       32.00        34811.0   5.87\n",
            "06/10/2020   06/10/2020 Ashok Parmar         0.0        0.00         34806.0   6.49\n",
            "                        Chiranjib Pattanayak 4.0        4.00         34816.0  10.71\n",
            "                        Deepraj Singh Panwar 24.0       0.00         34819.0   7.70\n",
            "                        Dharmendra Chouhan   20.0       20.00        34833.0   3.37\n",
            "                        Dikshita Soneria     10.0       10.00        34818.0   8.19\n",
            "                        Manoj Sawan          32.0       32.00        34811.0   5.87\n",
            "                        Priyanka Mankare     0.0        0.00         34761.0   0.27\n",
            "                                             2.0        2.00         34812.0   0.14\n",
            "                        Rameshwar Narke      6.0        6.00         34802.0   4.34\n",
            "                        Ravi                 18.0       0.00         34821.0   8.03\n",
            "                        santhosh             32.0       0.00         34648.0   9.13\n",
            "             06/11/2020 Manoj Sawan          32.0       32.00        34811.0   6.96\n",
            "06/11/2020   06/11/2020 Ashok Parmar         0.0        0.00         34806.0   2.08\n",
            "                        Chiranjib Pattanayak 0.0        0.00         34790.0   6.97\n",
            "                                             4.0        4.00         34816.0   3.41\n",
            "                        Deepraj Singh Panwar 24.0       0.00         34819.0   8.37\n",
            "                        Dharmendra Chouhan   20.0       20.00        34833.0   2.14\n",
            "                        Dikshita Soneria     6.0        6.00         34825.0   6.03\n",
            "                                             10.0       10.00        34818.0   1.94\n",
            "                        Manoj Sawan          32.0       32.00        34811.0   6.69\n",
            "                        Priyanka Mankare     0.0        0.00         34826.0   0.15\n",
            "                                                        4.00         34743.0   0.42\n",
            "                                             8.0        8.00         34690.0   0.56\n",
            "                                             16.0       16.00        34663.0   1.96\n",
            "                        Rameshwar Narke      0.0        0.00         34791.0   7.14\n",
            "                                             6.0        6.00         34802.0   0.54\n",
            "                        Ravi                 18.0       0.00         34821.0   8.13\n",
            "                        santhosh             32.0       0.00         34648.0  10.16\n",
            "             06/12/2020 Manoj Sawan          32.0       32.00        34811.0   3.86\n",
            "06/12/2020   06/12/2020 Ashok Parmar         0.0        0.00         34806.0   6.00\n",
            "                        Chiranjib Pattanayak 0.0        0.00         34790.0   9.52\n",
            "                        Deepraj Singh Panwar 16.0       0.00         34827.0   4.00\n",
            "                        Dharmendra Chouhan   20.0       20.00        34833.0   4.40\n",
            "                        Dikshita Soneria     2.0        4.00         34831.0   2.01\n",
            "                                             10.0       8.00         33650.0   5.98\n",
            "                        Manoj Sawan          0.0        0.00         34834.0   3.30\n",
            "                        Priyanka Mankare     0.0        0.00         34835.0   0.26\n",
            "                                             4.0        2.00         34808.0   0.88\n",
            "                                                        4.00         34669.0   0.20\n",
            "                                             6.0        8.00         34781.0   1.31\n",
            "                                             8.0        0.00         34459.0   0.50\n",
            "                                             12.0       12.00        34711.0   1.04\n",
            "                        Priyesh Panvalkar    8.0        8.00         34670.0   0.67\n",
            "                        Rameshwar Narke      0.0        0.00         34791.0   5.77\n",
            "                                                                     34829.0   2.42\n",
            "                        Ravi                 18.0       0.00         34821.0   8.13\n",
            "                        santhosh             32.0       0.00         34648.0   9.03\n",
            "             06/13/2020 Manoj Sawan          0.0        0.00         34834.0   8.70\n",
            "06/13/2020   06/13/2020 Ashok Parmar         0.0        0.00         34806.0   3.50\n",
            "                        Chiranjib Pattanayak 0.0        0.00         34790.0  10.32\n"
          ],
          "name": "stdout"
        }
      ]
    },
    {
      "cell_type": "code",
      "metadata": {
        "id": "wxhaTA9RWe8I",
        "colab_type": "code",
        "colab": {
          "base_uri": "https://localhost:8080/",
          "height": 1000
        },
        "outputId": "e4f5d125-2d96-457e-a901-a5c361b92d08"
      },
      "source": [
        "#@title  {display-mode: \"form\"}\n",
        "import numpy as np\n",
        "from math import modf\n",
        "# ,'Start Date_x','End Date'\n",
        "grouped=clockifybugsmer.groupby(['User','Orig. Est.','Actual Hours','Bug ID'])\n",
        "grop_bud_sum=grouped['Duration (decimal)'].agg([np.sum])\n",
        "pd.set_option('display.max_rows', grop_bud_sum.shape[0]+1)\n",
        "\n",
        "print(grop_bud_sum)"
      ],
      "execution_count": null,
      "outputs": [
        {
          "output_type": "stream",
          "text": [
            "                                                         sum\n",
            "User                 Orig. Est. Actual Hours Bug ID         \n",
            "Afak Pangarkar       0.0        0.00         34795.0    1.33\n",
            "                     4.0        3.00         34805.0    0.50\n",
            "                                4.00         34796.0    0.58\n",
            "                     18.0       18.00        34810.0    0.42\n",
            "                     24.0       0.00         34819.0    0.33\n",
            "Ashok Parmar         0.0        0.00         34806.0   27.08\n",
            "Bhushan Raole        0.0        0.00         34795.0    0.29\n",
            "                     2.0        2.00         34792.0    0.18\n",
            "                                             34793.0    0.18\n",
            "                     3.0        3.00         34776.0    0.48\n",
            "                     4.0        4.00         34796.0    0.24\n",
            "                     8.0        8.00         34767.0    0.48\n",
            "Chiranjib Pattanayak 0.0        0.00         34724.0    2.00\n",
            "                                             34725.0    2.50\n",
            "                                             34729.0    1.67\n",
            "                                             34731.0    2.33\n",
            "                                             34734.0    3.08\n",
            "                                             34740.0    2.00\n",
            "                                             34741.0    2.00\n",
            "                                             34742.0    2.00\n",
            "                                             34752.0   25.04\n",
            "                                             34790.0   26.81\n",
            "                     4.0        4.00         34816.0   14.12\n",
            "                     6.0        6.00         34751.0    5.51\n",
            "                     8.0        0.00         34788.0   11.28\n",
            "Deepraj Singh Panwar 0.0        0.00         34800.0    4.40\n",
            "                     4.0        4.00         34796.0    3.34\n",
            "                     7.0        0.00         34809.0    7.92\n",
            "                     16.0       0.00         34827.0    4.00\n",
            "                     18.0       0.00         34764.0   14.80\n",
            "                     24.0       0.00         34819.0   20.92\n",
            "Dharmendra Chouhan   3.0        3.75         34782.0    3.75\n",
            "                     3.5        2.50         34769.0    2.50\n",
            "                     4.0        3.00         34805.0    2.61\n",
            "                     6.0        6.00         34779.0    6.00\n",
            "                                             34807.0    6.03\n",
            "                     7.0        7.00         34799.0    6.57\n",
            "                                7.08         34797.0    7.08\n",
            "                     16.0       6.50         34765.0    6.50\n",
            "                     20.0       20.00        34833.0   12.52\n",
            "Dikshita Soneria     2.0        2.00         34812.0    2.10\n",
            "                                4.00         34831.0    2.01\n",
            "                     4.0        4.00         34306.0    6.05\n",
            "                     6.0        4.00         34444.0    4.97\n",
            "                                6.00         34768.0    6.57\n",
            "                                             34777.0    5.98\n",
            "                                             34825.0    6.03\n",
            "                                8.00         33871.0    8.97\n",
            "                                             34781.0    8.55\n",
            "                                10.00        33602.0    6.88\n",
            "                                12.00        34337.0    5.91\n",
            "                     8.0        8.00         34143.0    3.90\n",
            "                     10.0       8.00         33650.0    5.98\n",
            "                                10.00        34818.0   10.13\n",
            "Manoj Sawan          0.0        0.00         34834.0   12.00\n",
            "                     8.0        8.00         34604.0    4.40\n",
            "                     24.0       26.00        34749.0    9.25\n",
            "                     32.0       32.00        34811.0   42.10\n",
            "                     40.0       40.00        34667.0   41.12\n",
            "Priyanka Mankare     0.0        0.00         34255.0    0.92\n",
            "                                             34738.0    0.43\n",
            "                                             34761.0    0.27\n",
            "                                             34806.0    0.19\n",
            "                                             34826.0    0.15\n",
            "                                             34835.0    0.26\n",
            "                                4.00         34743.0    1.26\n",
            "                                             34744.0    1.35\n",
            "                                8.00         34706.0    2.42\n",
            "                     2.0        2.00         34778.0    0.25\n",
            "                                             34812.0    0.32\n",
            "                     4.0        2.00         34808.0    1.03\n",
            "                                4.00         34618.0    1.27\n",
            "                                             34669.0    0.20\n",
            "                     6.0        6.00         34768.0    0.25\n",
            "                                             34777.0    0.50\n",
            "                                8.00         33871.0    0.33\n",
            "                                             34781.0    2.06\n",
            "                                10.00        33602.0    0.26\n",
            "                     8.0        0.00         34459.0    0.50\n",
            "                                8.00         34604.0    2.90\n",
            "                                             34690.0    0.56\n",
            "                                             34763.0    0.25\n",
            "                     10.0       10.00        34818.0    0.12\n",
            "                     12.0       12.00        34711.0    1.04\n",
            "                     16.0       16.00        34663.0    3.54\n",
            "                     18.0       18.00        34593.0    2.25\n",
            "                     24.0       26.00        34749.0    2.44\n",
            "                     32.0       32.00        34647.0    2.00\n",
            "                     40.0       40.00        34572.0    2.50\n",
            "Priyesh Panvalkar    0.0        0.00         30224.0    0.83\n",
            "                     1.0        0.00         24368.0    0.50\n",
            "                                1.00         29255.0    1.00\n",
            "                     8.0        8.00         34670.0    0.67\n",
            "Rameshwar Narke      0.0        0.00         34766.0    9.42\n",
            "                                             34791.0   32.70\n",
            "                                             34794.0    1.33\n",
            "                                             34795.0    2.93\n",
            "                                             34829.0    2.42\n",
            "                     2.0        2.00         34792.0    1.33\n",
            "                                             34793.0    1.95\n",
            "                     6.0        6.00         34802.0    4.88\n",
            "                     8.0        8.00         34767.0    8.67\n",
            "Ravi                 0.0        0.00         34771.0    5.07\n",
            "                                             34786.0   14.49\n",
            "                                             34801.0    0.58\n",
            "                     0.3        0.00         34813.0    0.50\n",
            "                     0.5        0.00         34803.0    0.58\n",
            "                     2.0        0.00         34758.0    3.00\n",
            "                     6.0        6.00         34770.0    8.40\n",
            "                     18.0       0.00         34821.0   24.29\n",
            "                     20.0       0.00         34780.0    5.07\n",
            "                     24.0       0.00         34804.0   22.43\n",
            "santhosh             32.0       0.00         34648.0  104.72\n"
          ],
          "name": "stdout"
        }
      ]
    },
    {
      "cell_type": "markdown",
      "metadata": {
        "id": "2rpuufC1NDtx",
        "colab_type": "text"
      },
      "source": [
        "Bug count wise user data"
      ]
    },
    {
      "cell_type": "code",
      "metadata": {
        "id": "APrfrm1zM2G4",
        "colab_type": "code",
        "colab": {
          "base_uri": "https://localhost:8080/",
          "height": 380
        },
        "outputId": "422f985a-c772-4304-be64-2544393f457e"
      },
      "source": [
        "#@title  {display-mode: \"form\"}\n",
        "import matplotlib.pyplot as plt\n",
        "import pandas as pd\n",
        "clockifybugsmer.groupby('User')['Duration (decimal)'].nunique().plot(kind='bar')\n",
        "plt.show()"
      ],
      "execution_count": 12,
      "outputs": [
        {
          "output_type": "display_data",
          "data": {
            "image/png": "[encoded data removed]",
            "text/plain": [
              "<Figure size 432x288 with 1 Axes>"
            ]
          },
          "metadata": {
            "tags": [],
            "needs_background": "light"
          }
        }
      ]
    },
    {
      "cell_type": "markdown",
      "metadata": {
        "id": "T-pTQwDrNLPC",
        "colab_type": "text"
      },
      "source": [
        "**User wise and bug wise total hours**"
      ]
    },
    {
      "cell_type": "code",
      "metadata": {
        "id": "AwFXefWNVHoi",
        "colab_type": "code",
        "colab": {
          "base_uri": "https://localhost:8080/",
          "height": 268
        },
        "outputId": "f08587c5-2796-477a-adf4-8cf12a6fccf7"
      },
      "source": [
        "print(clockifybugsmer.groupby('User')['Duration (decimal)'].sum())"
      ],
      "execution_count": 13,
      "outputs": [
        {
          "output_type": "stream",
          "text": [
            "User\n",
            "Afak Pangarkar            3.16\n",
            "Ashok Parmar             27.08\n",
            "Bhushan Raole             1.85\n",
            "Chiranjib Pattanayak    100.34\n",
            "Deepraj Singh Panwar     55.38\n",
            "Dharmendra Chouhan       53.56\n",
            "Dikshita Soneria         84.03\n",
            "Manoj Sawan             108.87\n",
            "Priyanka Mankare         31.82\n",
            "Priyesh Panvalkar         3.00\n",
            "Rameshwar Narke          65.63\n",
            "Ravi                     84.41\n",
            "santhosh                104.72\n",
            "Name: Duration (decimal), dtype: float64\n"
          ],
          "name": "stdout"
        }
      ]
    },
    {
      "cell_type": "markdown",
      "metadata": {
        "id": "7EiL8dAEOxfY",
        "colab_type": "text"
      },
      "source": [
        "**clockify wise sum**"
      ]
    },
    {
      "cell_type": "code",
      "metadata": {
        "id": "sdPwXO92On4r",
        "colab_type": "code",
        "colab": {
          "base_uri": "https://localhost:8080/",
          "height": 485
        },
        "outputId": "1f6bc46b-8fee-49d9-f1db-ead03ee16fe0"
      },
      "source": [
        "print(clockify_1junto13jun.groupby('User')['Duration (decimal)'].sum())"
      ],
      "execution_count": 14,
      "outputs": [
        {
          "output_type": "stream",
          "text": [
            "User\n",
            "Afak Pangarkar           98.55\n",
            "Ashok Parmar             82.08\n",
            "Bhushan Raole            83.03\n",
            "Chiranjib Pattanayak    117.38\n",
            "Deepraj Singh Panwar     87.64\n",
            "Dharmendra Chouhan       98.71\n",
            "Dikshita Soneria         90.09\n",
            "Kaaustubh                87.76\n",
            "Manoj Sawan             119.95\n",
            "Mihir Shah               95.62\n",
            "Prashant Chavan          92.48\n",
            "Priti Bhosale            92.06\n",
            "Priyanka Mankare         96.86\n",
            "Priyesh Panvalkar        90.50\n",
            "Raghunandan Rao         109.97\n",
            "Rameshwar Narke          92.56\n",
            "Ravi                     90.14\n",
            "Ruchita Puri             94.17\n",
            "Rupesh                   86.09\n",
            "Shrikant kulkarni        43.95\n",
            "Swarup Haldankar         88.39\n",
            "Tejasvi Sawant           87.23\n",
            "UDAY                     90.38\n",
            "santhosh                104.72\n",
            "vilas jadhav             97.95\n",
            "zaid khan                96.15\n",
            "Name: Duration (decimal), dtype: float64\n"
          ],
          "name": "stdout"
        }
      ]
    },
    {
      "cell_type": "code",
      "metadata": {
        "id": "mamU1C7eliI_",
        "colab_type": "code",
        "colab": {
          "base_uri": "https://localhost:8080/",
          "height": 822
        },
        "outputId": "848b01f0-35fb-45c2-c622-022dc0d3117a"
      },
      "source": [
        "#@title  {display-mode: \"form\"}\n",
        "clobugwisemerge=pd.merge(bugwiseclokifysum, clockifysum, how='outer', on='User')\n",
        "clobugwisemerge['inclockifybug_wisehr'] = clobugwisemerge['inclockifybug_wisehr'].fillna(0)\n",
        "clobugwisemerge"
      ],
      "execution_count": 35,
      "outputs": [
        {
          "output_type": "execute_result",
          "data": {
            "text/html": [
              "<div>\n",
              "<style scoped>\n",
              "    .dataframe tbody tr th:only-of-type {\n",
              "        vertical-align: middle;\n",
              "    }\n",
              "\n",
              "    .dataframe tbody tr th {\n",
              "        vertical-align: top;\n",
              "    }\n",
              "\n",
              "    .dataframe thead th {\n",
              "        text-align: right;\n",
              "    }\n",
              "</style>\n",
              "<table border=\"1\" class=\"dataframe\">\n",
              "  <thead>\n",
              "    <tr style=\"text-align: right;\">\n",
              "      <th></th>\n",
              "      <th>User</th>\n",
              "      <th>inclockifybug_wisehr</th>\n",
              "      <th>inclockify_wisehr</th>\n",
              "    </tr>\n",
              "  </thead>\n",
              "  <tbody>\n",
              "    <tr>\n",
              "      <th>0</th>\n",
              "      <td>Afak Pangarkar</td>\n",
              "      <td>3.16</td>\n",
              "      <td>98.55</td>\n",
              "    </tr>\n",
              "    <tr>\n",
              "      <th>1</th>\n",
              "      <td>Ashok Parmar</td>\n",
              "      <td>27.08</td>\n",
              "      <td>82.08</td>\n",
              "    </tr>\n",
              "    <tr>\n",
              "      <th>2</th>\n",
              "      <td>Bhushan Raole</td>\n",
              "      <td>1.85</td>\n",
              "      <td>83.03</td>\n",
              "    </tr>\n",
              "    <tr>\n",
              "      <th>3</th>\n",
              "      <td>Chiranjib Pattanayak</td>\n",
              "      <td>100.34</td>\n",
              "      <td>117.38</td>\n",
              "    </tr>\n",
              "    <tr>\n",
              "      <th>4</th>\n",
              "      <td>Deepraj Singh Panwar</td>\n",
              "      <td>55.38</td>\n",
              "      <td>87.64</td>\n",
              "    </tr>\n",
              "    <tr>\n",
              "      <th>5</th>\n",
              "      <td>Dharmendra Chouhan</td>\n",
              "      <td>53.56</td>\n",
              "      <td>98.71</td>\n",
              "    </tr>\n",
              "    <tr>\n",
              "      <th>6</th>\n",
              "      <td>Dikshita Soneria</td>\n",
              "      <td>84.03</td>\n",
              "      <td>90.09</td>\n",
              "    </tr>\n",
              "    <tr>\n",
              "      <th>7</th>\n",
              "      <td>Manoj Sawan</td>\n",
              "      <td>108.87</td>\n",
              "      <td>119.95</td>\n",
              "    </tr>\n",
              "    <tr>\n",
              "      <th>8</th>\n",
              "      <td>Priyanka Mankare</td>\n",
              "      <td>31.82</td>\n",
              "      <td>96.86</td>\n",
              "    </tr>\n",
              "    <tr>\n",
              "      <th>9</th>\n",
              "      <td>Priyesh Panvalkar</td>\n",
              "      <td>3.00</td>\n",
              "      <td>90.50</td>\n",
              "    </tr>\n",
              "    <tr>\n",
              "      <th>10</th>\n",
              "      <td>Rameshwar Narke</td>\n",
              "      <td>65.63</td>\n",
              "      <td>92.56</td>\n",
              "    </tr>\n",
              "    <tr>\n",
              "      <th>11</th>\n",
              "      <td>Ravi</td>\n",
              "      <td>84.41</td>\n",
              "      <td>90.14</td>\n",
              "    </tr>\n",
              "    <tr>\n",
              "      <th>12</th>\n",
              "      <td>santhosh</td>\n",
              "      <td>104.72</td>\n",
              "      <td>104.72</td>\n",
              "    </tr>\n",
              "    <tr>\n",
              "      <th>13</th>\n",
              "      <td>Kaaustubh</td>\n",
              "      <td>0.00</td>\n",
              "      <td>87.76</td>\n",
              "    </tr>\n",
              "    <tr>\n",
              "      <th>14</th>\n",
              "      <td>Mihir Shah</td>\n",
              "      <td>0.00</td>\n",
              "      <td>95.62</td>\n",
              "    </tr>\n",
              "    <tr>\n",
              "      <th>15</th>\n",
              "      <td>Prashant Chavan</td>\n",
              "      <td>0.00</td>\n",
              "      <td>92.48</td>\n",
              "    </tr>\n",
              "    <tr>\n",
              "      <th>16</th>\n",
              "      <td>Priti Bhosale</td>\n",
              "      <td>0.00</td>\n",
              "      <td>92.06</td>\n",
              "    </tr>\n",
              "    <tr>\n",
              "      <th>17</th>\n",
              "      <td>Raghunandan Rao</td>\n",
              "      <td>0.00</td>\n",
              "      <td>109.97</td>\n",
              "    </tr>\n",
              "    <tr>\n",
              "      <th>18</th>\n",
              "      <td>Ruchita Puri</td>\n",
              "      <td>0.00</td>\n",
              "      <td>94.17</td>\n",
              "    </tr>\n",
              "    <tr>\n",
              "      <th>19</th>\n",
              "      <td>Rupesh</td>\n",
              "      <td>0.00</td>\n",
              "      <td>86.09</td>\n",
              "    </tr>\n",
              "    <tr>\n",
              "      <th>20</th>\n",
              "      <td>Shrikant kulkarni</td>\n",
              "      <td>0.00</td>\n",
              "      <td>43.95</td>\n",
              "    </tr>\n",
              "    <tr>\n",
              "      <th>21</th>\n",
              "      <td>Swarup Haldankar</td>\n",
              "      <td>0.00</td>\n",
              "      <td>88.39</td>\n",
              "    </tr>\n",
              "    <tr>\n",
              "      <th>22</th>\n",
              "      <td>Tejasvi Sawant</td>\n",
              "      <td>0.00</td>\n",
              "      <td>87.23</td>\n",
              "    </tr>\n",
              "    <tr>\n",
              "      <th>23</th>\n",
              "      <td>UDAY</td>\n",
              "      <td>0.00</td>\n",
              "      <td>90.38</td>\n",
              "    </tr>\n",
              "    <tr>\n",
              "      <th>24</th>\n",
              "      <td>vilas jadhav</td>\n",
              "      <td>0.00</td>\n",
              "      <td>97.95</td>\n",
              "    </tr>\n",
              "    <tr>\n",
              "      <th>25</th>\n",
              "      <td>zaid khan</td>\n",
              "      <td>0.00</td>\n",
              "      <td>96.15</td>\n",
              "    </tr>\n",
              "  </tbody>\n",
              "</table>\n",
              "</div>"
            ],
            "text/plain": [
              "                    User  inclockifybug_wisehr  inclockify_wisehr\n",
              "0         Afak Pangarkar                  3.16              98.55\n",
              "1           Ashok Parmar                 27.08              82.08\n",
              "2          Bhushan Raole                  1.85              83.03\n",
              "3   Chiranjib Pattanayak                100.34             117.38\n",
              "4   Deepraj Singh Panwar                 55.38              87.64\n",
              "5     Dharmendra Chouhan                 53.56              98.71\n",
              "6       Dikshita Soneria                 84.03              90.09\n",
              "7            Manoj Sawan                108.87             119.95\n",
              "8       Priyanka Mankare                 31.82              96.86\n",
              "9      Priyesh Panvalkar                  3.00              90.50\n",
              "10       Rameshwar Narke                 65.63              92.56\n",
              "11                  Ravi                 84.41              90.14\n",
              "12              santhosh                104.72             104.72\n",
              "13             Kaaustubh                  0.00              87.76\n",
              "14            Mihir Shah                  0.00              95.62\n",
              "15       Prashant Chavan                  0.00              92.48\n",
              "16         Priti Bhosale                  0.00              92.06\n",
              "17       Raghunandan Rao                  0.00             109.97\n",
              "18          Ruchita Puri                  0.00              94.17\n",
              "19                Rupesh                  0.00              86.09\n",
              "20    Shrikant kulkarni                   0.00              43.95\n",
              "21      Swarup Haldankar                  0.00              88.39\n",
              "22        Tejasvi Sawant                  0.00              87.23\n",
              "23                  UDAY                  0.00              90.38\n",
              "24          vilas jadhav                  0.00              97.95\n",
              "25             zaid khan                  0.00              96.15"
            ]
          },
          "metadata": {
            "tags": []
          },
          "execution_count": 35
        }
      ]
    },
    {
      "cell_type": "code",
      "metadata": {
        "id": "BK1h0X7oqwHT",
        "colab_type": "code",
        "colab": {
          "base_uri": "https://localhost:8080/",
          "height": 748
        },
        "outputId": "d912a1a9-2337-423d-a047-e46adb554abc"
      },
      "source": [
        "#@title  {display-mode: \"form\"}\n",
        "import matplotlib.pyplot as plt\n",
        "df1 = clobugwisemerge.set_index('User')\n",
        "ax = df1[['inclockifybug_wisehr','inclockify_wisehr']].plot(kind='bar', title =\"Comparison Between bugzilla and Clockify Hours\", figsize=(15, 10), legend=True, fontsize=12)\n",
        "ax.set_xlabel(\"User\", fontsize=12)\n",
        "ax.set_ylabel(\"Hour\", fontsize=12)\n",
        "plt.show()\n",
        "\n"
      ],
      "execution_count": 56,
      "outputs": [
        {
          "output_type": "display_data",
          "data": {
            "image/png": "[encoded data removed]",
            "text/plain": [
              "<Figure size 1080x720 with 1 Axes>"
            ]
          },
          "metadata": {
            "tags": [],
            "needs_background": "light"
          }
        }
      ]
    }
  ]
}